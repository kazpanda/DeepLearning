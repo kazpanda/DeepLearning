{
 "cells": [
  {
   "cell_type": "code",
   "execution_count": 2,
   "metadata": {},
   "outputs": [],
   "source": [
    "import numpy as np\n",
    "import pandas as pd\n",
    "import matplotlib.pyplot as plt\n",
    "# サポートベクターマシーン\n",
    "from sklearn import svm\n",
    "# train_test_split（データを分割出してくれる）\n",
    "from sklearn.model_selection import train_test_split\n",
    "# accuracy_score（正解率を測れる）\n",
    "from sklearn.metrics import accuracy_score\n",
    "# グリッドサーチ（ハイパーパラメータを自動的に最適化してくれる）\n",
    "from sklearn.model_selection import GridSearchCV\n",
    "# 正規化、標準化用\n",
    "from sklearn.preprocessing import StandardScaler\n",
    "from sklearn.preprocessing import MinMaxScaler\n",
    "# 特徴量選択用\n",
    "from sklearn.feature_selection import SelectKBest\n",
    "from sklearn.feature_selection import SelectFromModel\n",
    "from sklearn.ensemble import RandomForestRegressor\n",
    "from sklearn.feature_selection import RFE"
   ]
  },
  {
   "cell_type": "code",
   "execution_count": null,
   "metadata": {},
   "outputs": [],
   "source": [
    "# 株価データの読み込み\n",
    "stock_data = pd.read_csv(\"stock_price.csv\", encoding=\"shift-jis\")\n",
    "print(stock_data)"
   ]
  }
 ],
 "metadata": {
  "kernelspec": {
   "display_name": "Python 3",
   "language": "python",
   "name": "python3"
  },
  "language_info": {
   "codemirror_mode": {
    "name": "ipython",
    "version": 3
   },
   "file_extension": ".py",
   "mimetype": "text/x-python",
   "name": "python",
   "nbconvert_exporter": "python",
   "pygments_lexer": "ipython3",
   "version": "3.7.4"
  }
 },
 "nbformat": 4,
 "nbformat_minor": 4
}
