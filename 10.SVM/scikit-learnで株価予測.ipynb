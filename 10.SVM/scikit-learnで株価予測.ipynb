{
 "cells": [
  {
   "cell_type": "code",
   "execution_count": 3,
   "metadata": {},
   "outputs": [
    {
     "name": "stderr",
     "output_type": "stream",
     "text": [
      "C:\\ProgramData\\Anaconda3\\envs\\AI\\lib\\site-packages\\sklearn\\externals\\joblib\\__init__.py:15: FutureWarning: sklearn.externals.joblib is deprecated in 0.21 and will be removed in 0.23. Please import this functionality directly from joblib, which can be installed with: pip install joblib. If this warning is raised when loading pickled models, you may need to re-serialize those models with scikit-learn 0.21+.\n",
      "  warnings.warn(msg, category=FutureWarning)\n"
     ]
    }
   ],
   "source": [
    "# 基本パッケージ（numpy,Pandas,matplotlib）\n",
    "import numpy as np\n",
    "import pandas as pd\n",
    "import matplotlib.pyplot as plt\n",
    "# 線形サポートベクターマシーン\n",
    "from sklearn.svm import LinearSVC\n",
    "# ランダムフォレスト\n",
    "from sklearn.ensemble import RandomForestClassifier\n",
    "# LightGBM\n",
    "import lightgbm as lgb\n",
    "# XGboost\n",
    "import xgboost as xgb\n",
    "# train_test_split（データを分割出してくれる）\n",
    "from sklearn.model_selection import train_test_split\n",
    "# accuracy_score（正解率を測れる）\n",
    "from sklearn.metrics import accuracy_score\n",
    "# グリッドサーチ（ハイパーパラメータを自動的に最適化してくれる）\n",
    "from sklearn.model_selection import GridSearchCV\n",
    "# 正規化\n",
    "from sklearn.preprocessing import MinMaxScaler\n",
    "# 交差検証\n",
    "from sklearn.model_selection import cross_val_score\n",
    "# 特徴量選択用\n",
    "from sklearn.feature_selection import SelectFromModel\n",
    "# warningの抑制\n",
    "import warnings\n",
    "# モデルの保存\n",
    "from sklearn.externals import joblib"
   ]
  },
  {
   "cell_type": "code",
   "execution_count": 7,
   "metadata": {},
   "outputs": [],
   "source": [
    "# 表示関連\n",
    "## DataFrameの列数設定\n",
    "pd.set_option('display.max_columns', 500)\n",
    "## warningの抑制\n",
    "warnings.filterwarnings('ignore')"
   ]
  },
  {
   "cell_type": "code",
   "execution_count": 8,
   "metadata": {},
   "outputs": [
    {
     "data": {
      "text/html": [
       "<div>\n",
       "<style scoped>\n",
       "    .dataframe tbody tr th:only-of-type {\n",
       "        vertical-align: middle;\n",
       "    }\n",
       "\n",
       "    .dataframe tbody tr th {\n",
       "        vertical-align: top;\n",
       "    }\n",
       "\n",
       "    .dataframe thead th {\n",
       "        text-align: right;\n",
       "    }\n",
       "</style>\n",
       "<table border=\"1\" class=\"dataframe\">\n",
       "  <thead>\n",
       "    <tr style=\"text-align: right;\">\n",
       "      <th></th>\n",
       "      <th>1321 東証ETF 日経225連動型上場投資信託（ETF）</th>\n",
       "      <th>Unnamed: 1</th>\n",
       "      <th>Unnamed: 2</th>\n",
       "      <th>Unnamed: 3</th>\n",
       "      <th>Unnamed: 4</th>\n",
       "      <th>Unnamed: 5</th>\n",
       "    </tr>\n",
       "  </thead>\n",
       "  <tbody>\n",
       "    <tr>\n",
       "      <th>日付</th>\n",
       "      <td>始値</td>\n",
       "      <td>高値</td>\n",
       "      <td>安値</td>\n",
       "      <td>終値</td>\n",
       "      <td>出来高</td>\n",
       "      <td>終値調整値</td>\n",
       "    </tr>\n",
       "    <tr>\n",
       "      <th>2020-01-06</th>\n",
       "      <td>24000</td>\n",
       "      <td>24050</td>\n",
       "      <td>23860</td>\n",
       "      <td>23910</td>\n",
       "      <td>568225</td>\n",
       "      <td>23910</td>\n",
       "    </tr>\n",
       "    <tr>\n",
       "      <th>2020-01-07</th>\n",
       "      <td>24030</td>\n",
       "      <td>24300</td>\n",
       "      <td>24010</td>\n",
       "      <td>24300</td>\n",
       "      <td>170307</td>\n",
       "      <td>24300</td>\n",
       "    </tr>\n",
       "    <tr>\n",
       "      <th>2020-01-08</th>\n",
       "      <td>23900</td>\n",
       "      <td>24020</td>\n",
       "      <td>23650</td>\n",
       "      <td>23930</td>\n",
       "      <td>396435</td>\n",
       "      <td>23930</td>\n",
       "    </tr>\n",
       "    <tr>\n",
       "      <th>2020-01-09</th>\n",
       "      <td>24270</td>\n",
       "      <td>24500</td>\n",
       "      <td>24260</td>\n",
       "      <td>24440</td>\n",
       "      <td>188019</td>\n",
       "      <td>24440</td>\n",
       "    </tr>\n",
       "  </tbody>\n",
       "</table>\n",
       "</div>"
      ],
      "text/plain": [
       "           1321 東証ETF 日経225連動型上場投資信託（ETF） Unnamed: 1 Unnamed: 2 Unnamed: 3  \\\n",
       "日付                                     始値         高値         安値         終値   \n",
       "2020-01-06                          24000      24050      23860      23910   \n",
       "2020-01-07                          24030      24300      24010      24300   \n",
       "2020-01-08                          23900      24020      23650      23930   \n",
       "2020-01-09                          24270      24500      24260      24440   \n",
       "\n",
       "           Unnamed: 4 Unnamed: 5  \n",
       "日付                出来高      終値調整値  \n",
       "2020-01-06     568225      23910  \n",
       "2020-01-07     170307      24300  \n",
       "2020-01-08     396435      23930  \n",
       "2020-01-09     188019      24440  "
      ]
     },
     "execution_count": 8,
     "metadata": {},
     "output_type": "execute_result"
    }
   ],
   "source": [
    "# 株価データの読み込み\n",
    "#stock_data = pd.read_csv(\"stock_Price_Prediction_v3.2.csv\", encoding=\"shift-jis\")\n",
    "stock_data = pd.read_csv(\"1321_2020.csv\", encoding=\"shift-jis\")\n",
    "\n",
    "# 読み込みデータの表示\n",
    "stock_data.head()"
   ]
  },
  {
   "cell_type": "code",
   "execution_count": 9,
   "metadata": {},
   "outputs": [
    {
     "ename": "AttributeError",
     "evalue": "'DataFrame' object has no attribute 'answer'",
     "output_type": "error",
     "traceback": [
      "\u001b[1;31m---------------------------------------------------------------------------\u001b[0m",
      "\u001b[1;31mAttributeError\u001b[0m                            Traceback (most recent call last)",
      "\u001b[1;32m<ipython-input-9-6a0f5ca32d34>\u001b[0m in \u001b[0;36m<module>\u001b[1;34m\u001b[0m\n\u001b[0;32m      1\u001b[0m \u001b[1;31m# DataFrameをNumPy配列へ変換\u001b[0m\u001b[1;33m\u001b[0m\u001b[1;33m\u001b[0m\u001b[1;33m\u001b[0m\u001b[0m\n\u001b[0;32m      2\u001b[0m \u001b[1;31m# 正解ラベルの変換\u001b[0m\u001b[1;33m\u001b[0m\u001b[1;33m\u001b[0m\u001b[1;33m\u001b[0m\u001b[0m\n\u001b[1;32m----> 3\u001b[1;33m \u001b[0manswers\u001b[0m \u001b[1;33m=\u001b[0m \u001b[0mstock_data\u001b[0m\u001b[1;33m.\u001b[0m\u001b[0manswer\u001b[0m\u001b[1;33m.\u001b[0m\u001b[0mvalues\u001b[0m\u001b[1;33m\u001b[0m\u001b[1;33m\u001b[0m\u001b[0m\n\u001b[0m\u001b[0;32m      4\u001b[0m \u001b[1;31m# 説明変数の変換\u001b[0m\u001b[1;33m\u001b[0m\u001b[1;33m\u001b[0m\u001b[1;33m\u001b[0m\u001b[0m\n\u001b[0;32m      5\u001b[0m \u001b[0mstock_data\u001b[0m\u001b[1;33m.\u001b[0m\u001b[0mdrop\u001b[0m\u001b[1;33m(\u001b[0m\u001b[0mcolumns\u001b[0m\u001b[1;33m=\u001b[0m\u001b[1;33m[\u001b[0m\u001b[1;34m'answer'\u001b[0m\u001b[1;33m]\u001b[0m\u001b[1;33m,\u001b[0m \u001b[0minplace\u001b[0m\u001b[1;33m=\u001b[0m\u001b[1;32mTrue\u001b[0m\u001b[1;33m)\u001b[0m\u001b[1;33m\u001b[0m\u001b[1;33m\u001b[0m\u001b[0m\n",
      "\u001b[1;32mC:\\ProgramData\\Anaconda3\\envs\\AI\\lib\\site-packages\\pandas\\core\\generic.py\u001b[0m in \u001b[0;36m__getattr__\u001b[1;34m(self, name)\u001b[0m\n\u001b[0;32m   5272\u001b[0m             \u001b[1;32mif\u001b[0m \u001b[0mself\u001b[0m\u001b[1;33m.\u001b[0m\u001b[0m_info_axis\u001b[0m\u001b[1;33m.\u001b[0m\u001b[0m_can_hold_identifiers_and_holds_name\u001b[0m\u001b[1;33m(\u001b[0m\u001b[0mname\u001b[0m\u001b[1;33m)\u001b[0m\u001b[1;33m:\u001b[0m\u001b[1;33m\u001b[0m\u001b[1;33m\u001b[0m\u001b[0m\n\u001b[0;32m   5273\u001b[0m                 \u001b[1;32mreturn\u001b[0m \u001b[0mself\u001b[0m\u001b[1;33m[\u001b[0m\u001b[0mname\u001b[0m\u001b[1;33m]\u001b[0m\u001b[1;33m\u001b[0m\u001b[1;33m\u001b[0m\u001b[0m\n\u001b[1;32m-> 5274\u001b[1;33m             \u001b[1;32mreturn\u001b[0m \u001b[0mobject\u001b[0m\u001b[1;33m.\u001b[0m\u001b[0m__getattribute__\u001b[0m\u001b[1;33m(\u001b[0m\u001b[0mself\u001b[0m\u001b[1;33m,\u001b[0m \u001b[0mname\u001b[0m\u001b[1;33m)\u001b[0m\u001b[1;33m\u001b[0m\u001b[1;33m\u001b[0m\u001b[0m\n\u001b[0m\u001b[0;32m   5275\u001b[0m \u001b[1;33m\u001b[0m\u001b[0m\n\u001b[0;32m   5276\u001b[0m     \u001b[1;32mdef\u001b[0m \u001b[0m__setattr__\u001b[0m\u001b[1;33m(\u001b[0m\u001b[0mself\u001b[0m\u001b[1;33m,\u001b[0m \u001b[0mname\u001b[0m\u001b[1;33m:\u001b[0m \u001b[0mstr\u001b[0m\u001b[1;33m,\u001b[0m \u001b[0mvalue\u001b[0m\u001b[1;33m)\u001b[0m \u001b[1;33m->\u001b[0m \u001b[1;32mNone\u001b[0m\u001b[1;33m:\u001b[0m\u001b[1;33m\u001b[0m\u001b[1;33m\u001b[0m\u001b[0m\n",
      "\u001b[1;31mAttributeError\u001b[0m: 'DataFrame' object has no attribute 'answer'"
     ]
    }
   ],
   "source": [
    "# DataFrameをNumPy配列へ変換\n",
    "# 正解ラベルの変換\n",
    "answers = stock_data.answer.values\n",
    "# 説明変数の変換\n",
    "stock_data.drop(columns=['answer'], inplace=True)\n",
    "explanatory_variable = stock_data.values"
   ]
  },
  {
   "cell_type": "code",
   "execution_count": null,
   "metadata": {},
   "outputs": [],
   "source": [
    "# スケール変換        \n",
    "ms = MinMaxScaler()\n",
    "ms.fit(explanatory_variable)\n",
    "explanatory_variable = ms.transform(explanatory_variable)"
   ]
  },
  {
   "cell_type": "code",
   "execution_count": null,
   "metadata": {},
   "outputs": [],
   "source": [
    "# データの分割（データの80%を訓練用に、20％をテスト用に分割する）\n",
    "X_train, X_test, y_train, y_test = train_test_split(explanatory_variable , answers, test_size=0.2, random_state=1,shuffle = False)"
   ]
  },
  {
   "cell_type": "code",
   "execution_count": null,
   "metadata": {},
   "outputs": [],
   "source": [
    " グリッドサーチするパラメータを設定\n",
    "parameters = {'C':[0.01,0.1,1,10,100],'loss':['hinge', 'squared_hinge']}\n",
    "# グリッドサーチを実行\n",
    "lsvc =  LinearSVC(random_state=1)\n",
    "grid_search = GridSearchCV(lsvc, param_grid=parameters, cv=5)\n",
    "grid_search = grid_search.fit(X_train , y_train)\n",
    "\n",
    "# グリッドサーチ結果(最適パラメータ)を取得\n",
    "GS_C, GS_loss = grid_search.best_params_.values()\n",
    "print (\"最適パラメータ：{}\".format(grid_search.best_params_))"
   ]
  },
  {
   "cell_type": "code",
   "execution_count": null,
   "metadata": {},
   "outputs": [],
   "source": [
    "# 最適パラメーターを指定して学習\n",
    "clf = LinearSVC(loss=GS_loss, C=GS_C, random_state=1)\n",
    "clf.fit(X_train , y_train)"
   ]
  },
  {
   "cell_type": "code",
   "execution_count": null,
   "metadata": {},
   "outputs": [],
   "source": [
    "# 学習後のモデルによるテスト\n",
    "# トレーニングデータを用いた予測\n",
    "y_train_pred = clf.predict(X_train)\n",
    "# テストデータを用いた予測\n",
    "y_val_pred = clf.predict(X_test)"
   ]
  },
  {
   "cell_type": "code",
   "execution_count": null,
   "metadata": {},
   "outputs": [],
   "source": [
    "# 正解率の計算\n",
    "train_score = accuracy_score(y_train, y_train_pred)\n",
    "test_score = accuracy_score(y_test, y_val_pred)\n",
    "# 正解率を表示\n",
    "print(\"トレーニングデータに対する正解率：\" + str(train_score * 100) + \"%\")\n",
    "print(\"テストデータに対する正解率：\" + str(test_score * 100) + \"%\")"
   ]
  },
  {
   "cell_type": "code",
   "execution_count": null,
   "metadata": {},
   "outputs": [],
   "source": [
    "#  交差検証\n",
    "## 5分割し交差検証\n",
    "scores = cross_val_score(clf, explanatory_variable, answers, cv=5)\n",
    "## 各分割におけるスコア\n",
    "print('Cross-Validation scores: {}'.format(scores))\n",
    "## スコアの平均値\n",
    "print('Average score: {}'.format(np.mean(scores)))"
   ]
  },
  {
   "cell_type": "code",
   "execution_count": null,
   "metadata": {},
   "outputs": [],
   "source": []
  },
  {
   "cell_type": "code",
   "execution_count": null,
   "metadata": {},
   "outputs": [],
   "source": []
  },
  {
   "cell_type": "code",
   "execution_count": null,
   "metadata": {},
   "outputs": [],
   "source": []
  },
  {
   "cell_type": "code",
   "execution_count": null,
   "metadata": {},
   "outputs": [],
   "source": []
  }
 ],
 "metadata": {
  "kernelspec": {
   "display_name": "Python 3",
   "language": "python",
   "name": "python3"
  },
  "language_info": {
   "codemirror_mode": {
    "name": "ipython",
    "version": 3
   },
   "file_extension": ".py",
   "mimetype": "text/x-python",
   "name": "python",
   "nbconvert_exporter": "python",
   "pygments_lexer": "ipython3",
   "version": "3.7.7"
  }
 },
 "nbformat": 4,
 "nbformat_minor": 4
}
