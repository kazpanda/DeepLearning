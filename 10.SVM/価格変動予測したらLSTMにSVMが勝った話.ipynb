{
 "cells": [
  {
   "cell_type": "markdown",
   "metadata": {},
   "source": [
    "### モジュール"
   ]
  },
  {
   "cell_type": "code",
   "execution_count": 9,
   "metadata": {},
   "outputs": [],
   "source": [
    "import random\n",
    "import pandas as pd\n",
    "import time \n",
    "import matplotlib.pyplot as plt\n",
    "import datetime\n",
    "import numpy as np\n",
    "from sklearn import preprocessing\n",
    "from keras.utils.np_utils import to_categorical\n",
    "from keras.models import Sequential\n",
    "from keras.layers import Dense, Activation, Dropout\n",
    "from keras.layers.recurrent import SimpleRNN, LSTM\n",
    "from keras.layers.normalization import BatchNormalization\n",
    "from keras.callbacks import EarlyStopping\n",
    "plt.style.use('ggplot')"
   ]
  },
  {
   "cell_type": "markdown",
   "metadata": {},
   "source": [
    "### 価格データの取得"
   ]
  },
  {
   "cell_type": "code",
   "execution_count": 10,
   "metadata": {},
   "outputs": [],
   "source": [
    "bitcoin_market_info = pd.read_csv('../data/GBPJPY_day_api.csv')\n",
    "#bitcoin_market_info = pd.read_csv('GBPJPY_day_api.csv', index_col='day')\n",
    "#df.index = pd.to_datetime(df.index)\n",
    "bitcoin_market_info = bitcoin_market_info.drop([\"day\",\"time\"],axis=1)\n",
    "datasize=bitcoin_market_info.shape[0]"
   ]
  },
  {
   "cell_type": "code",
   "execution_count": 11,
   "metadata": {},
   "outputs": [
    {
     "data": {
      "text/html": [
       "<div>\n",
       "<style scoped>\n",
       "    .dataframe tbody tr th:only-of-type {\n",
       "        vertical-align: middle;\n",
       "    }\n",
       "\n",
       "    .dataframe tbody tr th {\n",
       "        vertical-align: top;\n",
       "    }\n",
       "\n",
       "    .dataframe thead th {\n",
       "        text-align: right;\n",
       "    }\n",
       "</style>\n",
       "<table border=\"1\" class=\"dataframe\">\n",
       "  <thead>\n",
       "    <tr style=\"text-align: right;\">\n",
       "      <th></th>\n",
       "      <th>close</th>\n",
       "      <th>open</th>\n",
       "      <th>high</th>\n",
       "      <th>low</th>\n",
       "      <th>volume</th>\n",
       "    </tr>\n",
       "  </thead>\n",
       "  <tbody>\n",
       "    <tr>\n",
       "      <th>0</th>\n",
       "      <td>204.55</td>\n",
       "      <td>205.76</td>\n",
       "      <td>205.86</td>\n",
       "      <td>203.97</td>\n",
       "      <td>20763</td>\n",
       "    </tr>\n",
       "    <tr>\n",
       "      <th>1</th>\n",
       "      <td>204.88</td>\n",
       "      <td>204.56</td>\n",
       "      <td>205.09</td>\n",
       "      <td>203.76</td>\n",
       "      <td>18704</td>\n",
       "    </tr>\n",
       "    <tr>\n",
       "      <th>2</th>\n",
       "      <td>205.13</td>\n",
       "      <td>204.89</td>\n",
       "      <td>205.48</td>\n",
       "      <td>203.68</td>\n",
       "      <td>21178</td>\n",
       "    </tr>\n",
       "    <tr>\n",
       "      <th>3</th>\n",
       "      <td>205.40</td>\n",
       "      <td>205.14</td>\n",
       "      <td>205.93</td>\n",
       "      <td>204.75</td>\n",
       "      <td>21104</td>\n",
       "    </tr>\n",
       "    <tr>\n",
       "      <th>4</th>\n",
       "      <td>205.69</td>\n",
       "      <td>205.20</td>\n",
       "      <td>206.17</td>\n",
       "      <td>204.88</td>\n",
       "      <td>17706</td>\n",
       "    </tr>\n",
       "  </tbody>\n",
       "</table>\n",
       "</div>"
      ],
      "text/plain": [
       "    close    open    high     low  volume\n",
       "0  204.55  205.76  205.86  203.97   20763\n",
       "1  204.88  204.56  205.09  203.76   18704\n",
       "2  205.13  204.89  205.48  203.68   21178\n",
       "3  205.40  205.14  205.93  204.75   21104\n",
       "4  205.69  205.20  206.17  204.88   17706"
      ]
     },
     "execution_count": 11,
     "metadata": {},
     "output_type": "execute_result"
    }
   ],
   "source": [
    "bitcoin_market_info.head()"
   ]
  },
  {
   "cell_type": "code",
   "execution_count": 12,
   "metadata": {},
   "outputs": [
    {
     "data": {
      "text/plain": [
       "'\\n# bitcoin_market_info = pd.read_html(\"https://coinmarketcap.com/currencies/bitcoin/historical-data/?start=20150428&end=\"+time.strftime(\"%Y%m%d\"))[0]\\nbitcoin_market_info = pd.read_html(\"https://coinmarketcap.com/currencies/bitcoin/historical-data/?start=20160101&end=\"+time.strftime(\"%Y%m%d\"))[0]\\n\\nbitcoin_market_info = bitcoin_market_info.assign(Date=pd.to_datetime(bitcoin_market_info[\\'Date\\'])).replace(\"-\", np.nan).fillna(method=\"ffill\")\\nbitcoin_market_info=bitcoin_market_info.drop([\"Date\",\"Volume\"],axis=1)\\ndatasize=bitcoin_market_info.shape[0]\\n'"
      ]
     },
     "execution_count": 12,
     "metadata": {},
     "output_type": "execute_result"
    }
   ],
   "source": [
    "\"\"\"\n",
    "# bitcoin_market_info = pd.read_html(\"https://coinmarketcap.com/currencies/bitcoin/historical-data/?start=20150428&end=\"+time.strftime(\"%Y%m%d\"))[0]\n",
    "bitcoin_market_info = pd.read_html(\"https://coinmarketcap.com/currencies/bitcoin/historical-data/?start=20160101&end=\"+time.strftime(\"%Y%m%d\"))[0]\n",
    "\n",
    "bitcoin_market_info = bitcoin_market_info.assign(Date=pd.to_datetime(bitcoin_market_info['Date'])).replace(\"-\", np.nan).fillna(method=\"ffill\")\n",
    "bitcoin_market_info=bitcoin_market_info.drop([\"Date\",\"Volume\"],axis=1)\n",
    "datasize=bitcoin_market_info.shape[0]\n",
    "\"\"\""
   ]
  },
  {
   "cell_type": "code",
   "execution_count": 13,
   "metadata": {},
   "outputs": [
    {
     "data": {
      "text/html": [
       "<div>\n",
       "<style scoped>\n",
       "    .dataframe tbody tr th:only-of-type {\n",
       "        vertical-align: middle;\n",
       "    }\n",
       "\n",
       "    .dataframe tbody tr th {\n",
       "        vertical-align: top;\n",
       "    }\n",
       "\n",
       "    .dataframe thead th {\n",
       "        text-align: right;\n",
       "    }\n",
       "</style>\n",
       "<table border=\"1\" class=\"dataframe\">\n",
       "  <thead>\n",
       "    <tr style=\"text-align: right;\">\n",
       "      <th></th>\n",
       "      <th>close</th>\n",
       "      <th>open</th>\n",
       "      <th>high</th>\n",
       "      <th>low</th>\n",
       "      <th>volume</th>\n",
       "    </tr>\n",
       "  </thead>\n",
       "  <tbody>\n",
       "    <tr>\n",
       "      <th>0</th>\n",
       "      <td>204.55</td>\n",
       "      <td>205.76</td>\n",
       "      <td>205.86</td>\n",
       "      <td>203.97</td>\n",
       "      <td>20763</td>\n",
       "    </tr>\n",
       "    <tr>\n",
       "      <th>1</th>\n",
       "      <td>204.88</td>\n",
       "      <td>204.56</td>\n",
       "      <td>205.09</td>\n",
       "      <td>203.76</td>\n",
       "      <td>18704</td>\n",
       "    </tr>\n",
       "    <tr>\n",
       "      <th>2</th>\n",
       "      <td>205.13</td>\n",
       "      <td>204.89</td>\n",
       "      <td>205.48</td>\n",
       "      <td>203.68</td>\n",
       "      <td>21178</td>\n",
       "    </tr>\n",
       "    <tr>\n",
       "      <th>3</th>\n",
       "      <td>205.40</td>\n",
       "      <td>205.14</td>\n",
       "      <td>205.93</td>\n",
       "      <td>204.75</td>\n",
       "      <td>21104</td>\n",
       "    </tr>\n",
       "    <tr>\n",
       "      <th>4</th>\n",
       "      <td>205.69</td>\n",
       "      <td>205.20</td>\n",
       "      <td>206.17</td>\n",
       "      <td>204.88</td>\n",
       "      <td>17706</td>\n",
       "    </tr>\n",
       "  </tbody>\n",
       "</table>\n",
       "</div>"
      ],
      "text/plain": [
       "    close    open    high     low  volume\n",
       "0  204.55  205.76  205.86  203.97   20763\n",
       "1  204.88  204.56  205.09  203.76   18704\n",
       "2  205.13  204.89  205.48  203.68   21178\n",
       "3  205.40  205.14  205.93  204.75   21104\n",
       "4  205.69  205.20  206.17  204.88   17706"
      ]
     },
     "execution_count": 13,
     "metadata": {},
     "output_type": "execute_result"
    }
   ],
   "source": [
    "bitcoin_market_info.head()"
   ]
  },
  {
   "cell_type": "markdown",
   "metadata": {},
   "source": [
    "### データの前処理(1)"
   ]
  },
  {
   "cell_type": "code",
   "execution_count": 14,
   "metadata": {},
   "outputs": [],
   "source": [
    "wide=60#何日前のデータまで見るか\n",
    "\n",
    "#連続値を離散値にする関数（閾値は変化率0.01)\n",
    "f=lambda x: 2 if x>0.01 else 0 if x<-0.01 else 1 if -0.01<=x<=0.01 else np.nan\n",
    "\n",
    "def seikei(df):\n",
    "    random.shuffle([i for i in range(datasize-wide-2)])#RNNでは学習する順番によっても結果が変わってくるので、順番をバラバラにできるよう準備しておきます\n",
    "    shuffle_index = []\n",
    "    test_index=shuffle_index[:datasize//3]\n",
    "    train_index=shuffle_index[datasize//3:]\n",
    "    \n",
    "    df_train_list=[]\n",
    "    df_test_list=[]\n",
    "    df_list=[]\n",
    "    keys=[\"{}\".format(i) for i in range(wide)]\n",
    "    columns=df.columns\n",
    "    \n",
    "    #正解ラベルの作成\n",
    "    #close_diff=df.loc[:,\"Close**\"].pct_change(-1).map(f).rename(columns={'Close**': 'diff'})[0:datasize-wide-2]\n",
    "    close_diff=df.loc[:,\"close\"].pct_change(-1).map(f).rename(columns={'close': 'diff'})[0:datasize-wide-2]\n",
    "    \n",
    "    y_train=close_diff[train_index]\n",
    "    y_test=close_diff[test_index]\n",
    "    \n",
    "    diff_list=[]\n",
    "#変分からなるデータフレームに書き換える\n",
    "    for col in columns:\n",
    "        data=df.loc[:,col]\n",
    "        diff_data_cleaned=preprocessing.scale(data.pct_change(-1)[:datasize-1])#価格変動をみたいので差分を取り、精度を上げるために標準化しています。\n",
    "        diff_data_cleaned.index=range(datasize-1)\n",
    "        diff_list.append(pd.Series(data=diff_data_cleaned, dtype='float'))\n",
    "        \n",
    "    df=pd.concat(diff_list,axis=1)\n",
    "\n",
    "    for column in columns:\n",
    "        series_list=[df.loc[:,column]]\n",
    "        for i in range(wide):\n",
    "            series_kari=series_list[0].drop(0)\n",
    "            series_kari.index=range(datasize-(i+2))\n",
    "            series_list.insert(0,series_kari)\n",
    "            \n",
    "        concat_df=pd.concat(series_list,axis=1,keys=keys).drop(0).dropna()\n",
    "        concat_df.index=range(datasize-(wide+2))\n",
    "        \n",
    "        concat_df_train=concat_df.iloc[train_index,:]\n",
    "        concat_df_test=concat_df.iloc[test_index,:]\n",
    "        \n",
    "        df_train_list.append(concat_df_train)\n",
    "        df_test_list.append(concat_df_test)\n",
    "    return df_train_list,df_test_list,y_train,y_test"
   ]
  },
  {
   "cell_type": "markdown",
   "metadata": {},
   "source": [
    "### データの前処理(2)"
   ]
  },
  {
   "cell_type": "code",
   "execution_count": 15,
   "metadata": {},
   "outputs": [],
   "source": [
    "def convert_threeDarray_for_nn(df_list):\n",
    "    array_list = []\n",
    "    for df in df_list:\n",
    "        ndarray = np.array(df)\n",
    "        array_list.append(np.reshape(\n",
    "            ndarray, (ndarray.shape[0], ndarray.shape[1], 1)))\n",
    "\n",
    "    return np.concatenate(array_list, axis=2)"
   ]
  },
  {
   "cell_type": "markdown",
   "metadata": {},
   "source": [
    "### データの前処理(3)"
   ]
  },
  {
   "cell_type": "code",
   "execution_count": 16,
   "metadata": {},
   "outputs": [
    {
     "ename": "TypeError",
     "evalue": "rename() got an unexpected keyword argument 'columns'",
     "output_type": "error",
     "traceback": [
      "\u001b[1;31m---------------------------------------------------------------------------\u001b[0m",
      "\u001b[1;31mTypeError\u001b[0m                                 Traceback (most recent call last)",
      "\u001b[1;32m<ipython-input-16-7035291658b8>\u001b[0m in \u001b[0;36m<module>\u001b[1;34m\u001b[0m\n\u001b[0;32m      1\u001b[0m \u001b[1;31m#train_df_list,test_df_list,Y_train,Y_test=seikei(df)\u001b[0m\u001b[1;33m\u001b[0m\u001b[1;33m\u001b[0m\u001b[1;33m\u001b[0m\u001b[0m\n\u001b[1;32m----> 2\u001b[1;33m \u001b[0mtrain_df_list\u001b[0m\u001b[1;33m,\u001b[0m\u001b[0mtest_df_list\u001b[0m\u001b[1;33m,\u001b[0m\u001b[0mY_train\u001b[0m\u001b[1;33m,\u001b[0m\u001b[0mY_test\u001b[0m\u001b[1;33m=\u001b[0m\u001b[0mseikei\u001b[0m\u001b[1;33m(\u001b[0m\u001b[0mbitcoin_market_info\u001b[0m\u001b[1;33m)\u001b[0m\u001b[1;33m\u001b[0m\u001b[1;33m\u001b[0m\u001b[0m\n\u001b[0m\u001b[0;32m      3\u001b[0m \u001b[1;33m\u001b[0m\u001b[0m\n\u001b[0;32m      4\u001b[0m \u001b[0mX_train\u001b[0m \u001b[1;33m=\u001b[0m \u001b[0mconvert_threeDarray_for_nn\u001b[0m\u001b[1;33m(\u001b[0m\u001b[0mtrain_df_list\u001b[0m\u001b[1;33m)\u001b[0m\u001b[1;33m\u001b[0m\u001b[1;33m\u001b[0m\u001b[0m\n\u001b[0;32m      5\u001b[0m \u001b[0mX_test\u001b[0m \u001b[1;33m=\u001b[0m \u001b[0mconvert_threeDarray_for_nn\u001b[0m\u001b[1;33m(\u001b[0m\u001b[0mtest_df_list\u001b[0m\u001b[1;33m)\u001b[0m\u001b[1;33m\u001b[0m\u001b[1;33m\u001b[0m\u001b[0m\n",
      "\u001b[1;32m<ipython-input-14-18f3dca845bc>\u001b[0m in \u001b[0;36mseikei\u001b[1;34m(df)\u001b[0m\n\u001b[0;32m     18\u001b[0m     \u001b[1;31m#正解ラベルの作成\u001b[0m\u001b[1;33m\u001b[0m\u001b[1;33m\u001b[0m\u001b[1;33m\u001b[0m\u001b[0m\n\u001b[0;32m     19\u001b[0m     \u001b[1;31m#close_diff=df.loc[:,\"Close**\"].pct_change(-1).map(f).rename(columns={'Close**': 'diff'})[0:datasize-wide-2]\u001b[0m\u001b[1;33m\u001b[0m\u001b[1;33m\u001b[0m\u001b[1;33m\u001b[0m\u001b[0m\n\u001b[1;32m---> 20\u001b[1;33m     \u001b[0mclose_diff\u001b[0m\u001b[1;33m=\u001b[0m\u001b[0mdf\u001b[0m\u001b[1;33m.\u001b[0m\u001b[0mloc\u001b[0m\u001b[1;33m[\u001b[0m\u001b[1;33m:\u001b[0m\u001b[1;33m,\u001b[0m\u001b[1;34m\"close\"\u001b[0m\u001b[1;33m]\u001b[0m\u001b[1;33m.\u001b[0m\u001b[0mpct_change\u001b[0m\u001b[1;33m(\u001b[0m\u001b[1;33m-\u001b[0m\u001b[1;36m1\u001b[0m\u001b[1;33m)\u001b[0m\u001b[1;33m.\u001b[0m\u001b[0mmap\u001b[0m\u001b[1;33m(\u001b[0m\u001b[0mf\u001b[0m\u001b[1;33m)\u001b[0m\u001b[1;33m.\u001b[0m\u001b[0mrename\u001b[0m\u001b[1;33m(\u001b[0m\u001b[0mcolumns\u001b[0m\u001b[1;33m=\u001b[0m\u001b[1;33m{\u001b[0m\u001b[1;34m'close'\u001b[0m\u001b[1;33m:\u001b[0m \u001b[1;34m'diff'\u001b[0m\u001b[1;33m}\u001b[0m\u001b[1;33m)\u001b[0m\u001b[1;33m[\u001b[0m\u001b[1;36m0\u001b[0m\u001b[1;33m:\u001b[0m\u001b[0mdatasize\u001b[0m\u001b[1;33m-\u001b[0m\u001b[0mwide\u001b[0m\u001b[1;33m-\u001b[0m\u001b[1;36m2\u001b[0m\u001b[1;33m]\u001b[0m\u001b[1;33m\u001b[0m\u001b[1;33m\u001b[0m\u001b[0m\n\u001b[0m\u001b[0;32m     21\u001b[0m \u001b[1;33m\u001b[0m\u001b[0m\n\u001b[0;32m     22\u001b[0m     \u001b[0my_train\u001b[0m\u001b[1;33m=\u001b[0m\u001b[0mclose_diff\u001b[0m\u001b[1;33m[\u001b[0m\u001b[0mtrain_index\u001b[0m\u001b[1;33m]\u001b[0m\u001b[1;33m\u001b[0m\u001b[1;33m\u001b[0m\u001b[0m\n",
      "\u001b[1;31mTypeError\u001b[0m: rename() got an unexpected keyword argument 'columns'"
     ]
    }
   ],
   "source": [
    "#train_df_list,test_df_list,Y_train,Y_test=seikei(df)\n",
    "train_df_list,test_df_list,Y_train,Y_test=seikei(bitcoin_market_info)\n",
    "\n",
    "X_train = convert_threeDarray_for_nn(train_df_list)\n",
    "X_test = convert_threeDarray_for_nn(test_df_list)\n",
    "\n",
    "n_classes =3\n",
    "Y_train = to_categorical(Y_train, n_classes)\n",
    "Y_test = to_categorical(Y_test, n_classes)\n",
    "\n",
    "input_size = [X_train.shape[1], X_train.shape[2]]#入力するデータサイズを取得"
   ]
  },
  {
   "cell_type": "markdown",
   "metadata": {},
   "source": [
    "### 指標の設定"
   ]
  },
  {
   "cell_type": "code",
   "execution_count": 2,
   "metadata": {},
   "outputs": [
    {
     "ename": "SyntaxError",
     "evalue": "invalid syntax (<ipython-input-2-d3f56c439b9a>, line 1)",
     "output_type": "error",
     "traceback": [
      "\u001b[1;36m  File \u001b[1;32m\"<ipython-input-2-d3f56c439b9a>\"\u001b[1;36m, line \u001b[1;32m1\u001b[0m\n\u001b[1;33m    def to_array(y)\u001b[0m\n\u001b[1;37m                   ^\u001b[0m\n\u001b[1;31mSyntaxError\u001b[0m\u001b[1;31m:\u001b[0m invalid syntax\n"
     ]
    }
   ],
   "source": [
    "def to_array(y)\n",
    "  array=[]\n",
    "  for i in range(y.shape[0]):\n",
    "    array.append(y[i].argmax())\n",
    "  return(array)\n",
    "\n",
    "def kentei(predict_y,test_y):\n",
    "  count=0\n",
    "  for i in range(len(predict_y)):\n",
    "    if predict_y[i]==2 and test_y[i]==0:\n",
    "      count+=1\n",
    "  return count/predict_y.count(2)"
   ]
  },
  {
   "cell_type": "markdown",
   "metadata": {},
   "source": [
    "### モデルの作成"
   ]
  },
  {
   "cell_type": "code",
   "execution_count": 3,
   "metadata": {},
   "outputs": [
    {
     "ename": "NameError",
     "evalue": "name 'input_size' is not defined",
     "output_type": "error",
     "traceback": [
      "\u001b[1;31m---------------------------------------------------------------------------\u001b[0m",
      "\u001b[1;31mNameError\u001b[0m                                 Traceback (most recent call last)",
      "\u001b[1;32m<ipython-input-3-521b3c89ea7b>\u001b[0m in \u001b[0;36m<module>\u001b[1;34m\u001b[0m\n\u001b[0;32m     43\u001b[0m \u001b[1;33m\u001b[0m\u001b[0m\n\u001b[0;32m     44\u001b[0m turned_model = pred_activity_lstm(\n\u001b[1;32m---> 45\u001b[1;33m     \u001b[0minput_dim\u001b[0m\u001b[1;33m=\u001b[0m\u001b[0minput_size\u001b[0m\u001b[1;33m,\u001b[0m\u001b[1;33m\u001b[0m\u001b[1;33m\u001b[0m\u001b[0m\n\u001b[0m\u001b[0;32m     46\u001b[0m     \u001b[0mactivate_method\u001b[0m\u001b[1;33m=\u001b[0m\u001b[1;34m'softmax'\u001b[0m\u001b[1;33m,\u001b[0m\u001b[1;33m\u001b[0m\u001b[1;33m\u001b[0m\u001b[0m\n\u001b[0;32m     47\u001b[0m     \u001b[0mloss_method\u001b[0m\u001b[1;33m=\u001b[0m\u001b[1;34m'categorical_crossentropy'\u001b[0m\u001b[1;33m,\u001b[0m\u001b[1;33m\u001b[0m\u001b[1;33m\u001b[0m\u001b[0m\n",
      "\u001b[1;31mNameError\u001b[0m: name 'input_size' is not defined"
     ]
    }
   ],
   "source": [
    "def pred_activity_lstm(input_dim,\n",
    "                       activate_method='softmax',  # 活性化関数\n",
    "                       loss_method='categorical_crossentropy',  # 損失関数\n",
    "                       optimizer_method='adam',  # パラメータの更新方法\n",
    "                       kernel_init_method='glorot_normal',  # 重みの初期化方法\n",
    "                       batch_normalization=False,  # バッチ正規化\n",
    "                       dropout_rate=None  # ドロップアウト率\n",
    "                       ):\n",
    "    \n",
    "    model = Sequential()\n",
    "    model.add(\n",
    "        LSTM(\n",
    "            input_shape=(input_dim[0], input_dim[1]),\n",
    "            units=60,\n",
    "            kernel_initializer=kernel_init_method,\n",
    "            return_sequences=True\n",
    "        ))\n",
    "\n",
    "    if batch_normalization:\n",
    "        model.add(BatchNormalization())\n",
    "\n",
    "    if dropout_rate:\n",
    "        model.add(Dropout(dropout_rate))\n",
    "\n",
    "    model.add(\n",
    "        LSTM(\n",
    "            units=30,\n",
    "            kernel_initializer=kernel_init_method,\n",
    "            return_sequences=False \n",
    "        ))\n",
    "\n",
    "    if batch_normalization:\n",
    "        model.add(BatchNormalization())\n",
    "\n",
    "    if dropout_rate:\n",
    "        model.add(Dropout(dropout_rate))\n",
    "\n",
    "    model.add(Dense(units=n_classes, activation=activate_method))\n",
    "    model.compile(loss=loss_method, optimizer=optimizer_method,\n",
    "                  metrics=['accuracy'])\n",
    "\n",
    "    return model\n",
    "\n",
    "turned_model = pred_activity_lstm(\n",
    "    input_dim=input_size,\n",
    "    activate_method='softmax',\n",
    "    loss_method='categorical_crossentropy',\n",
    "    optimizer_method='adam',\n",
    "    kernel_init_method='glorot_normal',\n",
    "    batch_normalization=True\n",
    ")\n",
    "\n",
    "early_stopping = EarlyStopping(monitor='val_loss', patience=10, verbose=1)\n"
   ]
  },
  {
   "cell_type": "markdown",
   "metadata": {},
   "source": [
    "### 学習"
   ]
  },
  {
   "cell_type": "code",
   "execution_count": 5,
   "metadata": {},
   "outputs": [
    {
     "ename": "SyntaxError",
     "evalue": "invalid syntax (<ipython-input-5-59daf8944328>, line 7)",
     "output_type": "error",
     "traceback": [
      "\u001b[1;36m  File \u001b[1;32m\"<ipython-input-5-59daf8944328>\"\u001b[1;36m, line \u001b[1;32m7\u001b[0m\n\u001b[1;33m    validation_split=0.3,\u001b[0m\n\u001b[1;37m                   ^\u001b[0m\n\u001b[1;31mSyntaxError\u001b[0m\u001b[1;31m:\u001b[0m invalid syntax\n"
     ]
    }
   ],
   "source": [
    "# 学習スタート\n",
    "history = turned_model.fit(\n",
    "    X_train,\n",
    "    Y_train,\n",
    "    batch_size=64,\n",
    "    epochs=100\n",
    "    validation_split=0.3,\n",
    "    callbacks=[early_stopping],\n",
    "    verbose=2\n",
    ")\n",
    "\n",
    "score = lstm_model.evaluate(X_test, Y_test, verbose=1)\n",
    "\n",
    "\n",
    "# 精度の推移図を出力\n",
    "plt.figure(figsize=(8, 5))\n",
    "plt.plot(history.history['acc'])\n",
    "plt.plot(history.history['val_acc'])\n",
    "plt.title('model accuracy')\n",
    "plt.ylabel('accuracy')\n",
    "plt.xlabel('epoch')\n",
    "plt.legend(['train', 'test'], loc='upper left')\n",
    "plt.show()\n",
    "\n",
    "# 損失関数の推移図を出力\n",
    "plt.figure(figsize=(8, 5))\n",
    "plt.plot(history.history['loss'])\n",
    "plt.plot(history.history['val_loss'])\n",
    "plt.title('model loss')\n",
    "plt.ylabel('loss')\n",
    "plt.xlabel('epoch')\n",
    "plt.legend(['train', 'test'], loc='upper left')\n",
    "plt.show()\n",
    "\n",
    "score = lstm_model.evaluate(X_test, Y_test, verbose=0)\n",
    "print('Test loss:', score[0])\n",
    "print('Test accuracy:', score[1])\n",
    "\n",
    "test_y=to_array(Y_test)\n",
    "pred_y=to_array(turend_model.predict(X_test)\n",
    "\n",
    "print(\"投資失敗率:{}\".format(kentei(pred_y,test_y)))"
   ]
  },
  {
   "cell_type": "code",
   "execution_count": null,
   "metadata": {},
   "outputs": [],
   "source": []
  }
 ],
 "metadata": {
  "kernelspec": {
   "display_name": "Python 3",
   "language": "python",
   "name": "python3"
  },
  "language_info": {
   "codemirror_mode": {
    "name": "ipython",
    "version": 3
   },
   "file_extension": ".py",
   "mimetype": "text/x-python",
   "name": "python",
   "nbconvert_exporter": "python",
   "pygments_lexer": "ipython3",
   "version": "3.7.7"
  }
 },
 "nbformat": 4,
 "nbformat_minor": 4
}
