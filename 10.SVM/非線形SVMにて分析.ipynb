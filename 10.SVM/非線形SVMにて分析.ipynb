{
 "cells": [
  {
   "cell_type": "code",
   "execution_count": 1,
   "metadata": {},
   "outputs": [],
   "source": [
    "import pandas as pd\n",
    "import time\n",
    "import matplotlib.pyplot as plt\n",
    "import datetime\n",
    "import numpy as np\n",
    "from sklearn import preprocessing\n",
    "from sklearn.svm import SVC\n",
    "from sklearn.ensemble import RandomForestClassifier as RFC\n",
    "from sklearn.model_selection import train_test_split\n",
    "from tqdm import tqdm\n",
    "%matplotlib inline"
   ]
  },
  {
   "cell_type": "code",
   "execution_count": 2,
   "metadata": {},
   "outputs": [],
   "source": [
    "bitcoin_market_info = pd.read_csv('../data/GBPJPY_day_short.csv')\n",
    "#Date,Volumeの削除\n",
    "bitcoin_market_info = bitcoin_market_info.drop([\"day\", \"time\", \"volume\"],\n",
    "                                               axis=1)\n",
    "datasize = bitcoin_market_info.shape[0]\n"
   ]
  },
  {
   "cell_type": "code",
   "execution_count": 3,
   "metadata": {
    "scrolled": true
   },
   "outputs": [
    {
     "data": {
      "text/html": [
       "<div>\n",
       "<style scoped>\n",
       "    .dataframe tbody tr th:only-of-type {\n",
       "        vertical-align: middle;\n",
       "    }\n",
       "\n",
       "    .dataframe tbody tr th {\n",
       "        vertical-align: top;\n",
       "    }\n",
       "\n",
       "    .dataframe thead th {\n",
       "        text-align: right;\n",
       "    }\n",
       "</style>\n",
       "<table border=\"1\" class=\"dataframe\">\n",
       "  <thead>\n",
       "    <tr style=\"text-align: right;\">\n",
       "      <th></th>\n",
       "      <th>close</th>\n",
       "      <th>open</th>\n",
       "      <th>high</th>\n",
       "      <th>low</th>\n",
       "    </tr>\n",
       "  </thead>\n",
       "  <tbody>\n",
       "    <tr>\n",
       "      <th>0</th>\n",
       "      <td>137.282</td>\n",
       "      <td>139.407</td>\n",
       "      <td>139.461</td>\n",
       "      <td>137.282</td>\n",
       "    </tr>\n",
       "    <tr>\n",
       "      <th>1</th>\n",
       "      <td>135.903</td>\n",
       "      <td>137.205</td>\n",
       "      <td>137.319</td>\n",
       "      <td>132.484</td>\n",
       "    </tr>\n",
       "    <tr>\n",
       "      <th>2</th>\n",
       "      <td>138.063</td>\n",
       "      <td>135.894</td>\n",
       "      <td>138.297</td>\n",
       "      <td>135.803</td>\n",
       "    </tr>\n",
       "    <tr>\n",
       "      <th>3</th>\n",
       "      <td>138.879</td>\n",
       "      <td>138.032</td>\n",
       "      <td>138.928</td>\n",
       "      <td>137.611</td>\n",
       "    </tr>\n",
       "    <tr>\n",
       "      <th>4</th>\n",
       "      <td>138.215</td>\n",
       "      <td>138.880</td>\n",
       "      <td>139.437</td>\n",
       "      <td>137.972</td>\n",
       "    </tr>\n",
       "  </tbody>\n",
       "</table>\n",
       "</div>"
      ],
      "text/plain": [
       "     close     open     high      low\n",
       "0  137.282  139.407  139.461  137.282\n",
       "1  135.903  137.205  137.319  132.484\n",
       "2  138.063  135.894  138.297  135.803\n",
       "3  138.879  138.032  138.928  137.611\n",
       "4  138.215  138.880  139.437  137.972"
      ]
     },
     "execution_count": 3,
     "metadata": {},
     "output_type": "execute_result"
    }
   ],
   "source": [
    "bitcoin_market_info.head()"
   ]
  },
  {
   "cell_type": "code",
   "execution_count": 4,
   "metadata": {},
   "outputs": [],
   "source": [
    "#データの前処理\n",
    "##欠損データの処理\n",
    "bitcoin_market_info = bitcoin_market_info.replace(\n",
    "    \"-\", np.nan).fillna(method=\"ffill\")\n",
    "bitcoin_market_info.index = range(datasize)\n",
    "\n",
    "\n",
    "cols = bitcoin_market_info.columns\n",
    "\n",
    "diff_list = []\n",
    "for col in cols:\n",
    "    diff_data = bitcoin_market_info.loc[:, col].pct_change()[1:]\n",
    "    diff_data.index = range(datasize - 1)\n",
    "    series = pd.Series(data=diff_data, dtype='float')\n",
    "    diff_list.append(series)\n",
    "\n",
    "df = pd.concat(diff_list, axis=1)"
   ]
  },
  {
   "cell_type": "code",
   "execution_count": 5,
   "metadata": {},
   "outputs": [],
   "source": [
    "#時間方向を横軸に組み込んだDataFrameの作成\n",
    "dataframe_list = [df]\n",
    "wide = 3\n",
    "keys = [\"{}\".format(i) for i in range(wide)]\n",
    "for i in range(wide):\n",
    "    data_kari = dataframe_list[i].drop(i)\n",
    "    data_kari.index = range(datasize - (i + 2))\n",
    "    dataframe_list.append(data_kari)\n",
    "concat_df = pd.concat(dataframe_list, axis=1, keys=keys).dropna()\n",
    "y = concat_df"
   ]
  },
  {
   "cell_type": "code",
   "execution_count": 6,
   "metadata": {},
   "outputs": [],
   "source": [
    "#学習用データの作成\n",
    "f = lambda x: 2 if x > 0.01 else 0 if x < -0.01 else 1\n",
    "y = concat_df.iloc[:, 1].map(f).values.astype(np.int64)[:y.shape[0] - 1]\n",
    "X = preprocessing.scale(concat_df).astype(np.float64)[1:, 1]\n",
    "\n",
    "train_X, test_X, train_y, test_y = train_test_split(X, y, random_state=0)\n",
    "\n",
    "\n",
    "def kentei(predict_y, test_y):\n",
    "    count = 0\n",
    "    for i in range(len(predict_y)):\n",
    "        if predict_y[i] == 2 and test_y[i] == 0:\n",
    "            count += 1\n",
    "    return count / predict_y.tolist().count(2)\n",
    "\n",
    "\n",
    "C_list = [10**i for i in range(-5, 7)]"
   ]
  },
  {
   "cell_type": "code",
   "execution_count": 7,
   "metadata": {},
   "outputs": [],
   "source": [
    "# １D配列から２D配列へ変換\n",
    "train_X=train_X.reshape(-1,1)\n",
    "test_X=test_X.reshape(-1,1)"
   ]
  },
  {
   "cell_type": "code",
   "execution_count": 8,
   "metadata": {},
   "outputs": [
    {
     "name": "stderr",
     "output_type": "stream",
     "text": [
      "100%|██████████| 12/12 [00:05<00:00,  2.15it/s]\n"
     ]
    }
   ],
   "source": [
    "# グラフ描画用の空リストを用意\n",
    "train_accuracy = []\n",
    "test_accuracy = []\n",
    "\n",
    "for C in tqdm(C_list):\n",
    "    model = SVC(C=C)\n",
    "    model.fit(train_X, train_y)\n",
    "    train_accuracy.append(model.score(train_X, train_y))\n",
    "    test_accuracy.append(model.score(test_X, test_y))\n",
    "\n",
    "predict_y = model.predict(test_X)"
   ]
  },
  {
   "cell_type": "code",
   "execution_count": 9,
   "metadata": {},
   "outputs": [
    {
     "data": {
      "image/png": "[encoded data removed]",
      "text/plain": [
       "<Figure size 432x288 with 1 Axes>"
      ]
     },
     "metadata": {
      "needs_background": "light"
     },
     "output_type": "display_data"
    }
   ],
   "source": [
    "# グラフの準備\n",
    "plt.semilogx(C_list, train_accuracy, label=\"accuracy of train_data\")\n",
    "plt.semilogx(C_list, test_accuracy, label=\"accuracy of test_data\")\n",
    "plt.title(\"accuracy with changing C\")\n",
    "plt.xlabel(\"C\")\n",
    "plt.ylabel(\"accuracy\")\n",
    "plt.legend()\n",
    "plt.show()"
   ]
  },
  {
   "cell_type": "code",
   "execution_count": 11,
   "metadata": {},
   "outputs": [
    {
     "name": "stdout",
     "output_type": "stream",
     "text": [
      "Average score is 0.8993055555555557\n",
      "Max score is 0.9027777777777778\n",
      "投資失敗率:0.0\n"
     ]
    }
   ],
   "source": [
    "print(\"Average score is {}\".format(np.mean(test_accuracy)))\n",
    "print(\"Max score is {}\".format(np.max(test_accuracy)))\n",
    "\n",
    "print(\"投資失敗率:{}\".format(kentei(predict_y, test_y)))\n"
   ]
  },
  {
   "cell_type": "code",
   "execution_count": null,
   "metadata": {},
   "outputs": [],
   "source": []
  }
 ],
 "metadata": {
  "kernelspec": {
   "display_name": "Python 3",
   "language": "python",
   "name": "python3"
  },
  "language_info": {
   "codemirror_mode": {
    "name": "ipython",
    "version": 3
   },
   "file_extension": ".py",
   "mimetype": "text/x-python",
   "name": "python",
   "nbconvert_exporter": "python",
   "pygments_lexer": "ipython3",
   "version": "3.7.7"
  }
 },
 "nbformat": 4,
 "nbformat_minor": 4
}
