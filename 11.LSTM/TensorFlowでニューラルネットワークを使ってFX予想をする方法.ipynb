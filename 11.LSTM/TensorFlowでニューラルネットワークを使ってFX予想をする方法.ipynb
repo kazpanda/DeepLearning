{
 "cells": [
  {
   "cell_type": "code",
   "execution_count": 2,
   "metadata": {},
   "outputs": [
    {
     "name": "stdout",
     "output_type": "stream",
     "text": [
      "WARNING:tensorflow:From C:\\ProgramData\\Anaconda3\\envs\\AI\\lib\\site-packages\\tensorflow_core\\python\\compat\\v2_compat.py:88: disable_resource_variables (from tensorflow.python.ops.variable_scope) is deprecated and will be removed in a future version.\n",
      "Instructions for updating:\n",
      "non-resource variables are not supported in the long term\n"
     ]
    }
   ],
   "source": [
    "# ライブラリのインポート\n",
    "import pandas as pd\n",
    "import numpy as np\n",
    "import matplotlib.pyplot as plt\n",
    "from sklearn.preprocessing import MinMaxScaler\n",
    "from sklearn.metrics import mean_absolute_error\n",
    "#import tensorflow as tf\n",
    "import tensorflow.compat.v1 as tf\n",
    "tf.disable_v2_behavior()"
   ]
  },
  {
   "cell_type": "code",
   "execution_count": 3,
   "metadata": {},
   "outputs": [
    {
     "data": {
      "text/html": [
       "<div>\n",
       "<style scoped>\n",
       "    .dataframe tbody tr th:only-of-type {\n",
       "        vertical-align: middle;\n",
       "    }\n",
       "\n",
       "    .dataframe tbody tr th {\n",
       "        vertical-align: top;\n",
       "    }\n",
       "\n",
       "    .dataframe thead th {\n",
       "        text-align: right;\n",
       "    }\n",
       "</style>\n",
       "<table border=\"1\" class=\"dataframe\">\n",
       "  <thead>\n",
       "    <tr style=\"text-align: right;\">\n",
       "      <th></th>\n",
       "      <th>time</th>\n",
       "      <th>close</th>\n",
       "      <th>open</th>\n",
       "      <th>high</th>\n",
       "      <th>low</th>\n",
       "      <th>volume</th>\n",
       "    </tr>\n",
       "  </thead>\n",
       "  <tbody>\n",
       "    <tr>\n",
       "      <th>0</th>\n",
       "      <td>2016/08/19 06:00:00</td>\n",
       "      <td>100.256</td>\n",
       "      <td>99.919</td>\n",
       "      <td>100.471</td>\n",
       "      <td>99.887</td>\n",
       "      <td>30965</td>\n",
       "    </tr>\n",
       "    <tr>\n",
       "      <th>1</th>\n",
       "      <td>2016/08/22 06:00:00</td>\n",
       "      <td>100.335</td>\n",
       "      <td>100.832</td>\n",
       "      <td>100.944</td>\n",
       "      <td>100.221</td>\n",
       "      <td>32920</td>\n",
       "    </tr>\n",
       "    <tr>\n",
       "      <th>2</th>\n",
       "      <td>2016/08/23 06:00:00</td>\n",
       "      <td>100.253</td>\n",
       "      <td>100.339</td>\n",
       "      <td>100.405</td>\n",
       "      <td>99.950</td>\n",
       "      <td>26069</td>\n",
       "    </tr>\n",
       "    <tr>\n",
       "      <th>3</th>\n",
       "      <td>2016/08/24 06:00:00</td>\n",
       "      <td>100.460</td>\n",
       "      <td>100.270</td>\n",
       "      <td>100.619</td>\n",
       "      <td>100.104</td>\n",
       "      <td>22340</td>\n",
       "    </tr>\n",
       "    <tr>\n",
       "      <th>4</th>\n",
       "      <td>2016/08/25 06:00:00</td>\n",
       "      <td>100.546</td>\n",
       "      <td>100.464</td>\n",
       "      <td>100.627</td>\n",
       "      <td>100.314</td>\n",
       "      <td>17224</td>\n",
       "    </tr>\n",
       "  </tbody>\n",
       "</table>\n",
       "</div>"
      ],
      "text/plain": [
       "                  time    close     open     high      low  volume\n",
       "0  2016/08/19 06:00:00  100.256   99.919  100.471   99.887   30965\n",
       "1  2016/08/22 06:00:00  100.335  100.832  100.944  100.221   32920\n",
       "2  2016/08/23 06:00:00  100.253  100.339  100.405   99.950   26069\n",
       "3  2016/08/24 06:00:00  100.460  100.270  100.619  100.104   22340\n",
       "4  2016/08/25 06:00:00  100.546  100.464  100.627  100.314   17224"
      ]
     },
     "execution_count": 3,
     "metadata": {},
     "output_type": "execute_result"
    }
   ],
   "source": [
    "# CSVファイルから過去レートを読み込む\n",
    "df = pd.read_csv(\"../data/usd_jpy_api.csv\")\n",
    "df.head()"
   ]
  },
  {
   "cell_type": "code",
   "execution_count": 4,
   "metadata": {},
   "outputs": [
    {
     "data": {
      "text/html": [
       "<div>\n",
       "<style scoped>\n",
       "    .dataframe tbody tr th:only-of-type {\n",
       "        vertical-align: middle;\n",
       "    }\n",
       "\n",
       "    .dataframe tbody tr th {\n",
       "        vertical-align: top;\n",
       "    }\n",
       "\n",
       "    .dataframe thead th {\n",
       "        text-align: right;\n",
       "    }\n",
       "</style>\n",
       "<table border=\"1\" class=\"dataframe\">\n",
       "  <thead>\n",
       "    <tr style=\"text-align: right;\">\n",
       "      <th></th>\n",
       "      <th>time</th>\n",
       "      <th>close</th>\n",
       "      <th>open</th>\n",
       "      <th>high</th>\n",
       "      <th>low</th>\n",
       "      <th>volume</th>\n",
       "    </tr>\n",
       "  </thead>\n",
       "  <tbody>\n",
       "    <tr>\n",
       "      <th>495</th>\n",
       "      <td>2018/07/17 06:00:00</td>\n",
       "      <td>112.908</td>\n",
       "      <td>112.320</td>\n",
       "      <td>112.933</td>\n",
       "      <td>112.231</td>\n",
       "      <td>19645</td>\n",
       "    </tr>\n",
       "    <tr>\n",
       "      <th>496</th>\n",
       "      <td>2018/07/18 06:00:00</td>\n",
       "      <td>112.866</td>\n",
       "      <td>112.914</td>\n",
       "      <td>113.144</td>\n",
       "      <td>112.723</td>\n",
       "      <td>17432</td>\n",
       "    </tr>\n",
       "    <tr>\n",
       "      <th>497</th>\n",
       "      <td>2018/07/19 06:00:00</td>\n",
       "      <td>112.501</td>\n",
       "      <td>112.887</td>\n",
       "      <td>113.187</td>\n",
       "      <td>112.072</td>\n",
       "      <td>26697</td>\n",
       "    </tr>\n",
       "    <tr>\n",
       "      <th>498</th>\n",
       "      <td>2018/07/20 06:00:00</td>\n",
       "      <td>111.474</td>\n",
       "      <td>112.504</td>\n",
       "      <td>112.631</td>\n",
       "      <td>111.401</td>\n",
       "      <td>33445</td>\n",
       "    </tr>\n",
       "    <tr>\n",
       "      <th>499</th>\n",
       "      <td>2018/07/23 06:00:00</td>\n",
       "      <td>111.164</td>\n",
       "      <td>111.420</td>\n",
       "      <td>111.523</td>\n",
       "      <td>110.760</td>\n",
       "      <td>16040</td>\n",
       "    </tr>\n",
       "  </tbody>\n",
       "</table>\n",
       "</div>"
      ],
      "text/plain": [
       "                    time    close     open     high      low  volume\n",
       "495  2018/07/17 06:00:00  112.908  112.320  112.933  112.231   19645\n",
       "496  2018/07/18 06:00:00  112.866  112.914  113.144  112.723   17432\n",
       "497  2018/07/19 06:00:00  112.501  112.887  113.187  112.072   26697\n",
       "498  2018/07/20 06:00:00  111.474  112.504  112.631  111.401   33445\n",
       "499  2018/07/23 06:00:00  111.164  111.420  111.523  110.760   16040"
      ]
     },
     "execution_count": 4,
     "metadata": {},
     "output_type": "execute_result"
    }
   ],
   "source": [
    "# データの最後尾を表示\n",
    "df.tail()"
   ]
  },
  {
   "cell_type": "code",
   "execution_count": 5,
   "metadata": {},
   "outputs": [
    {
     "data": {
      "text/html": [
       "<div>\n",
       "<style scoped>\n",
       "    .dataframe tbody tr th:only-of-type {\n",
       "        vertical-align: middle;\n",
       "    }\n",
       "\n",
       "    .dataframe tbody tr th {\n",
       "        vertical-align: top;\n",
       "    }\n",
       "\n",
       "    .dataframe thead th {\n",
       "        text-align: right;\n",
       "    }\n",
       "</style>\n",
       "<table border=\"1\" class=\"dataframe\">\n",
       "  <thead>\n",
       "    <tr style=\"text-align: right;\">\n",
       "      <th></th>\n",
       "      <th>time</th>\n",
       "      <th>close</th>\n",
       "      <th>open</th>\n",
       "      <th>high</th>\n",
       "      <th>low</th>\n",
       "      <th>volume</th>\n",
       "    </tr>\n",
       "  </thead>\n",
       "  <tbody>\n",
       "    <tr>\n",
       "      <th>495</th>\n",
       "      <td>2018/07/17 06:00:00</td>\n",
       "      <td>112.866</td>\n",
       "      <td>112.320</td>\n",
       "      <td>112.933</td>\n",
       "      <td>112.231</td>\n",
       "      <td>19645</td>\n",
       "    </tr>\n",
       "    <tr>\n",
       "      <th>496</th>\n",
       "      <td>2018/07/18 06:00:00</td>\n",
       "      <td>112.501</td>\n",
       "      <td>112.914</td>\n",
       "      <td>113.144</td>\n",
       "      <td>112.723</td>\n",
       "      <td>17432</td>\n",
       "    </tr>\n",
       "    <tr>\n",
       "      <th>497</th>\n",
       "      <td>2018/07/19 06:00:00</td>\n",
       "      <td>111.474</td>\n",
       "      <td>112.887</td>\n",
       "      <td>113.187</td>\n",
       "      <td>112.072</td>\n",
       "      <td>26697</td>\n",
       "    </tr>\n",
       "    <tr>\n",
       "      <th>498</th>\n",
       "      <td>2018/07/20 06:00:00</td>\n",
       "      <td>111.164</td>\n",
       "      <td>112.504</td>\n",
       "      <td>112.631</td>\n",
       "      <td>111.401</td>\n",
       "      <td>33445</td>\n",
       "    </tr>\n",
       "    <tr>\n",
       "      <th>499</th>\n",
       "      <td>2018/07/23 06:00:00</td>\n",
       "      <td>NaN</td>\n",
       "      <td>111.420</td>\n",
       "      <td>111.523</td>\n",
       "      <td>110.760</td>\n",
       "      <td>16040</td>\n",
       "    </tr>\n",
       "  </tbody>\n",
       "</table>\n",
       "</div>"
      ],
      "text/plain": [
       "                    time    close     open     high      low  volume\n",
       "495  2018/07/17 06:00:00  112.866  112.320  112.933  112.231   19645\n",
       "496  2018/07/18 06:00:00  112.501  112.914  113.144  112.723   17432\n",
       "497  2018/07/19 06:00:00  111.474  112.887  113.187  112.072   26697\n",
       "498  2018/07/20 06:00:00  111.164  112.504  112.631  111.401   33445\n",
       "499  2018/07/23 06:00:00      NaN  111.420  111.523  110.760   16040"
      ]
     },
     "execution_count": 5,
     "metadata": {},
     "output_type": "execute_result"
    }
   ],
   "source": [
    "# 終値を1日分移動させる\n",
    "df_shift = df.copy()\n",
    "df_shift.close = df_shift.close.shift(-1)\n",
    " \n",
    "# 改めてデータを確認\n",
    "df_shift.tail()"
   ]
  },
  {
   "cell_type": "code",
   "execution_count": 6,
   "metadata": {},
   "outputs": [
    {
     "name": "stdout",
     "output_type": "stream",
     "text": [
      "499\n",
      "5\n"
     ]
    }
   ],
   "source": [
    "# 最後の行を除外\n",
    "df_shift = df_shift[:-1]\n",
    " \n",
    "# 念のためデータをdf_2として新しいデータフレームへコピ−\n",
    "df_2 = df_shift.copy()\n",
    " \n",
    "# time（時間）を削除\n",
    "del df_2['time']\n",
    " \n",
    "# データセットのサイズを確認\n",
    "print(df_2.shape[0])\n",
    "print(df_2.shape[1])"
   ]
  },
  {
   "cell_type": "code",
   "execution_count": 7,
   "metadata": {},
   "outputs": [
    {
     "data": {
      "text/html": [
       "<div>\n",
       "<style scoped>\n",
       "    .dataframe tbody tr th:only-of-type {\n",
       "        vertical-align: middle;\n",
       "    }\n",
       "\n",
       "    .dataframe tbody tr th {\n",
       "        vertical-align: top;\n",
       "    }\n",
       "\n",
       "    .dataframe thead th {\n",
       "        text-align: right;\n",
       "    }\n",
       "</style>\n",
       "<table border=\"1\" class=\"dataframe\">\n",
       "  <thead>\n",
       "    <tr style=\"text-align: right;\">\n",
       "      <th></th>\n",
       "      <th>close</th>\n",
       "      <th>open</th>\n",
       "      <th>high</th>\n",
       "      <th>low</th>\n",
       "      <th>volume</th>\n",
       "    </tr>\n",
       "  </thead>\n",
       "  <tbody>\n",
       "    <tr>\n",
       "      <th>497</th>\n",
       "      <td>111.474</td>\n",
       "      <td>112.887</td>\n",
       "      <td>113.187</td>\n",
       "      <td>112.072</td>\n",
       "      <td>26697</td>\n",
       "    </tr>\n",
       "    <tr>\n",
       "      <th>498</th>\n",
       "      <td>111.164</td>\n",
       "      <td>112.504</td>\n",
       "      <td>112.631</td>\n",
       "      <td>111.401</td>\n",
       "      <td>33445</td>\n",
       "    </tr>\n",
       "  </tbody>\n",
       "</table>\n",
       "</div>"
      ],
      "text/plain": [
       "       close     open     high      low  volume\n",
       "497  111.474  112.887  113.187  112.072   26697\n",
       "498  111.164  112.504  112.631  111.401   33445"
      ]
     },
     "execution_count": 7,
     "metadata": {},
     "output_type": "execute_result"
    }
   ],
   "source": [
    "# データセットの行数と列数を格納\n",
    "n = df_2.shape[0]\n",
    "p = df_2.shape[1]\n",
    " \n",
    "# 訓練データとテストデータへ切り分け\n",
    "train_start = 0\n",
    "train_end = int(np.floor(0.8*n))\n",
    "test_start = train_end + 1\n",
    "test_end = n\n",
    "data_train = df_2.loc[np.arange(train_start, train_end), :]\n",
    "data_test = df_2.loc[np.arange(test_start, test_end), :]\n",
    " \n",
    "# テストデータの最後2行を表示\n",
    "data_test[97:99]"
   ]
  },
  {
   "cell_type": "code",
   "execution_count": 8,
   "metadata": {},
   "outputs": [],
   "source": [
    "# データの正規化\n",
    "scaler = MinMaxScaler(feature_range=(-1, 1))\n",
    "scaler.fit(data_train)\n",
    "data_train_norm = scaler.transform(data_train)\n",
    "data_test_norm = scaler.transform(data_test)"
   ]
  },
  {
   "cell_type": "code",
   "execution_count": 9,
   "metadata": {},
   "outputs": [],
   "source": [
    "# 特徴量とターゲットへ切り分け\n",
    "X_train = data_train_norm[:, 1:]\n",
    "y_train = data_train_norm[:, 0]\n",
    "X_test = data_test_norm[:, 1:]\n",
    "y_test = data_test_norm[:, 0]"
   ]
  },
  {
   "cell_type": "code",
   "execution_count": 10,
   "metadata": {},
   "outputs": [],
   "source": [
    "# 正規化から通常の値へ戻す\n",
    "y_test = y_test.reshape(99, 1)\n",
    "test_inv = np.concatenate((y_test, X_test), axis=1)\n",
    "test_inv = scaler.inverse_transform(test_inv)"
   ]
  },
  {
   "cell_type": "code",
   "execution_count": 11,
   "metadata": {},
   "outputs": [
    {
     "name": "stdout",
     "output_type": "stream",
     "text": [
      "[  106.099   106.232   106.47    105.863 29786.   ]\n",
      "[-0.34859881] [-0.31148435 -0.3361064  -0.32056165 -0.79531038]\n",
      "[  106.099   106.232   106.47    105.863 29786.   ]\n"
     ]
    }
   ],
   "source": [
    "# 正規化の前のテストデータ\n",
    "print(data_test.values[0])\n",
    " \n",
    "# 正規化後のテストデータ\n",
    "print(y_test[0], X_test[0])\n",
    " \n",
    "# 正規化から戻したデータ\n",
    "print(test_inv[0])"
   ]
  },
  {
   "cell_type": "code",
   "execution_count": 12,
   "metadata": {},
   "outputs": [],
   "source": [
    "# 訓練データの特徴量の数を取得\n",
    "n_stocks = X_train.shape[1]\n",
    " \n",
    "# ニューロンの数を設定\n",
    "n_neurons_1 = 256\n",
    "n_neurons_2 = 128\n",
    " \n",
    "# セッションの開始\n",
    "net = tf.compat.v1.InteractiveSession()\n",
    " \n",
    "# プレースホルダーの作成\n",
    "X = tf.placeholder(dtype=tf.float32, shape=[None, n_stocks])\n",
    "Y = tf.placeholder(dtype=tf.float32, shape=[None])\n",
    " \n",
    "# 初期化\n",
    "sigma = 1\n",
    "weight_initializer = tf.variance_scaling_initializer(mode=\"fan_avg\", distribution=\"uniform\", scale=sigma)\n",
    "bias_initializer = tf.zeros_initializer()"
   ]
  },
  {
   "cell_type": "code",
   "execution_count": 13,
   "metadata": {},
   "outputs": [],
   "source": [
    "# Hidden weights\n",
    "W_hidden_1 = tf.Variable(weight_initializer([n_stocks, n_neurons_1]))\n",
    "bias_hidden_1 = tf.Variable(bias_initializer([n_neurons_1]))\n",
    "W_hidden_2 = tf.Variable(weight_initializer([n_neurons_1, n_neurons_2]))\n",
    "bias_hidden_2 = tf.Variable(bias_initializer([n_neurons_2]))"
   ]
  },
  {
   "cell_type": "code",
   "execution_count": 14,
   "metadata": {},
   "outputs": [],
   "source": [
    "# 出力の重み\n",
    "W_out = tf.Variable(weight_initializer([n_neurons_2, 1]))\n",
    "bias_out = tf.Variable(bias_initializer([1]))"
   ]
  },
  {
   "cell_type": "code",
   "execution_count": 15,
   "metadata": {},
   "outputs": [],
   "source": [
    "# 隠れ層の設定（ReLU＝活性化関数）\n",
    "hidden_1 = tf.nn.relu(tf.add(tf.matmul(X, W_hidden_1), bias_hidden_1))\n",
    "hidden_2 = tf.nn.relu(tf.add(tf.matmul(hidden_1, W_hidden_2), bias_hidden_2))\n",
    " \n",
    "# 出力層の設定\n",
    "out = tf.transpose(tf.add(tf.matmul(hidden_2, W_out), bias_out))"
   ]
  },
  {
   "cell_type": "code",
   "execution_count": 16,
   "metadata": {},
   "outputs": [],
   "source": [
    "# コスト関数\n",
    "mse = tf.reduce_mean(tf.squared_difference(out, Y))\n",
    " \n",
    "# 最適化関数\n",
    "opt = tf.train.AdamOptimizer().minimize(mse)\n",
    " \n",
    "# 初期化\n",
    "net.run(tf.global_variables_initializer())"
   ]
  },
  {
   "cell_type": "code",
   "execution_count": 17,
   "metadata": {},
   "outputs": [],
   "source": [
    "# ニューラルネットワークの設定\n",
    "batch_size = 128\n",
    "mse_train = []\n",
    "mse_test = []\n",
    " \n",
    "# 訓練開始！500回の反復処理\n",
    "epochs = 500\n",
    "for e in range(epochs):\n",
    "    net.run(opt, feed_dict={X: X_train, Y: y_train})"
   ]
  },
  {
   "cell_type": "code",
   "execution_count": 18,
   "metadata": {},
   "outputs": [
    {
     "data": {
      "text/plain": [
       "array([-0.33275884, -0.36702645], dtype=float32)"
      ]
     },
     "execution_count": 18,
     "metadata": {},
     "output_type": "execute_result"
    }
   ],
   "source": [
    "# テストデータで予測\n",
    "pred_test = net.run(out, feed_dict={X: X_test})\n",
    " \n",
    "# 予測データの最初の2つを表示\n",
    "pred_test[0][0:2]"
   ]
  },
  {
   "cell_type": "code",
   "execution_count": 19,
   "metadata": {},
   "outputs": [],
   "source": [
    "# 予測値をテストデータに戻そう（値も正規化からインバース）\n",
    "pred_test = np.concatenate((pred_test.T, X_test), axis=1)\n",
    "pred_inv = scaler.inverse_transform(pred_test)"
   ]
  },
  {
   "cell_type": "code",
   "execution_count": 20,
   "metadata": {},
   "outputs": [
    {
     "data": {
      "text/html": [
       "<div>\n",
       "<style scoped>\n",
       "    .dataframe tbody tr th:only-of-type {\n",
       "        vertical-align: middle;\n",
       "    }\n",
       "\n",
       "    .dataframe tbody tr th {\n",
       "        vertical-align: top;\n",
       "    }\n",
       "\n",
       "    .dataframe thead th {\n",
       "        text-align: right;\n",
       "    }\n",
       "</style>\n",
       "<table border=\"1\" class=\"dataframe\">\n",
       "  <thead>\n",
       "    <tr style=\"text-align: right;\">\n",
       "      <th></th>\n",
       "      <th>time</th>\n",
       "      <th>close</th>\n",
       "      <th>open</th>\n",
       "      <th>high</th>\n",
       "      <th>low</th>\n",
       "      <th>volume</th>\n",
       "    </tr>\n",
       "  </thead>\n",
       "  <tbody>\n",
       "    <tr>\n",
       "      <th>498</th>\n",
       "      <td>2018/07/20 06:00:00</td>\n",
       "      <td>111.164</td>\n",
       "      <td>112.504</td>\n",
       "      <td>112.631</td>\n",
       "      <td>111.401</td>\n",
       "      <td>33445</td>\n",
       "    </tr>\n",
       "  </tbody>\n",
       "</table>\n",
       "</div>"
      ],
      "text/plain": [
       "                    time    close     open     high      low  volume\n",
       "498  2018/07/20 06:00:00  111.164  112.504  112.631  111.401   33445"
      ]
     },
     "execution_count": 20,
     "metadata": {},
     "output_type": "execute_result"
    }
   ],
   "source": [
    "# 元データの最後尾\n",
    "df_shift.tail(1)"
   ]
  },
  {
   "cell_type": "code",
   "execution_count": 21,
   "metadata": {},
   "outputs": [
    {
     "name": "stdout",
     "output_type": "stream",
     "text": [
      "[  111.164   112.504   112.631   111.401 33445.   ]\n",
      "[  111.164   112.504   112.631   111.401 33445.   ]\n",
      "[  111.96763548   112.504        112.631        111.401\n",
      " 33445.        ]\n"
     ]
    }
   ],
   "source": [
    "# テストデータの最後のデータ（正規化前）\n",
    "print(data_test.values[98])\n",
    " \n",
    "# テストデータの最後のデータ（正規化を戻した後）\n",
    "print(test_inv[98])\n",
    " \n",
    "# モデルが予測したデータ\n",
    "print(pred_inv[98])"
   ]
  },
  {
   "cell_type": "code",
   "execution_count": 22,
   "metadata": {},
   "outputs": [
    {
     "data": {
      "image/png": "[encoded data removed]",
      "text/plain": [
       "<Figure size 432x288 with 1 Axes>"
      ]
     },
     "metadata": {
      "needs_background": "light"
     },
     "output_type": "display_data"
    }
   ],
   "source": [
    "# 予測と実際のテストの終値のチャートをプロットしてみよう\n",
    "plt.ion()\n",
    "fig = plt.figure()\n",
    "ax1 = fig.add_subplot(111)\n",
    "line1, = ax1.plot(test_inv[:,0])\n",
    "line2, = ax1.plot(pred_inv[:,0])\n",
    "plt.show()"
   ]
  },
  {
   "cell_type": "code",
   "execution_count": 23,
   "metadata": {},
   "outputs": [
    {
     "name": "stdout",
     "output_type": "stream",
     "text": [
      "0.0789601210222326\n"
     ]
    }
   ],
   "source": [
    "# MAEの計算\n",
    "mae_test = mean_absolute_error(test_inv, pred_inv)\n",
    "print(mae_test)"
   ]
  },
  {
   "cell_type": "code",
   "execution_count": null,
   "metadata": {},
   "outputs": [],
   "source": []
  },
  {
   "cell_type": "code",
   "execution_count": null,
   "metadata": {},
   "outputs": [],
   "source": []
  }
 ],
 "metadata": {
  "kernelspec": {
   "display_name": "Python 3",
   "language": "python",
   "name": "python3"
  },
  "language_info": {
   "codemirror_mode": {
    "name": "ipython",
    "version": 3
   },
   "file_extension": ".py",
   "mimetype": "text/x-python",
   "name": "python",
   "nbconvert_exporter": "python",
   "pygments_lexer": "ipython3",
   "version": "3.7.6"
  }
 },
 "nbformat": 4,
 "nbformat_minor": 2
}
