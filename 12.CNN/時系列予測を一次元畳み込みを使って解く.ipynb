{
 "cells": [
  {
   "cell_type": "markdown",
   "metadata": {},
   "source": [
    "## 一次元畳み込み\n",
    "畳み込み( Convolution ) を使ったニューラルネットワーク ( CNN ) は、今や機械学習の代名詞のようなものですが、CNNといった場合は、暗黙のうちに二次元、つまり画像データに畳み込みフィルターを使ったものを指しているように思います。  \n",
    "\n",
    "2次元畳み込みフィルターは、実際には画像の特徴を表す何らかのパターンを抽出しているということですが、1次元の時系列データ、要するにグラフですが、こいつの中にパターンを見つけ、時系列データの特徴を捉えてしまおうというのが1次元畳み込みフィルターです。"
   ]
  },
  {
   "cell_type": "code",
   "execution_count": 1,
   "metadata": {},
   "outputs": [
    {
     "name": "stderr",
     "output_type": "stream",
     "text": [
      "Using TensorFlow backend.\n"
     ]
    }
   ],
   "source": [
    "# ライブラリーのインポート\n",
    "import numpy as np\n",
    "from keras.models import Sequential\n",
    "from keras.layers import Dense, Dropout\n",
    "%matplotlib inline\n",
    "import matplotlib.pyplot as plt\n",
    "from keras.layers.convolutional import Conv1D, UpSampling1D\n",
    "from keras.layers.pooling import MaxPooling1D\n",
    "from keras.callbacks import EarlyStopping, TensorBoard, ModelCheckpoint"
   ]
  },
  {
   "cell_type": "code",
   "execution_count": 2,
   "metadata": {},
   "outputs": [
    {
     "name": "stderr",
     "output_type": "stream",
     "text": [
      "C:\\ProgramData\\Anaconda3\\envs\\AI\\lib\\site-packages\\matplotlib\\backends\\backend_agg.py:211: RuntimeWarning: Glyph 26178 missing from current font.\n",
      "  font.set_text(s, 0.0, flags=flags)\n",
      "C:\\ProgramData\\Anaconda3\\envs\\AI\\lib\\site-packages\\matplotlib\\backends\\backend_agg.py:211: RuntimeWarning: Glyph 38291 missing from current font.\n",
      "  font.set_text(s, 0.0, flags=flags)\n",
      "C:\\ProgramData\\Anaconda3\\envs\\AI\\lib\\site-packages\\matplotlib\\backends\\backend_agg.py:180: RuntimeWarning: Glyph 26178 missing from current font.\n",
      "  font.set_text(s, 0, flags=flags)\n",
      "C:\\ProgramData\\Anaconda3\\envs\\AI\\lib\\site-packages\\matplotlib\\backends\\backend_agg.py:180: RuntimeWarning: Glyph 38291 missing from current font.\n",
      "  font.set_text(s, 0, flags=flags)\n",
      "C:\\ProgramData\\Anaconda3\\envs\\AI\\lib\\site-packages\\matplotlib\\backends\\backend_agg.py:211: RuntimeWarning: Glyph 28204 missing from current font.\n",
      "  font.set_text(s, 0.0, flags=flags)\n",
      "C:\\ProgramData\\Anaconda3\\envs\\AI\\lib\\site-packages\\matplotlib\\backends\\backend_agg.py:211: RuntimeWarning: Glyph 23450 missing from current font.\n",
      "  font.set_text(s, 0.0, flags=flags)\n",
      "C:\\ProgramData\\Anaconda3\\envs\\AI\\lib\\site-packages\\matplotlib\\backends\\backend_agg.py:211: RuntimeWarning: Glyph 20516 missing from current font.\n",
      "  font.set_text(s, 0.0, flags=flags)\n",
      "C:\\ProgramData\\Anaconda3\\envs\\AI\\lib\\site-packages\\matplotlib\\backends\\backend_agg.py:180: RuntimeWarning: Glyph 28204 missing from current font.\n",
      "  font.set_text(s, 0, flags=flags)\n",
      "C:\\ProgramData\\Anaconda3\\envs\\AI\\lib\\site-packages\\matplotlib\\backends\\backend_agg.py:180: RuntimeWarning: Glyph 23450 missing from current font.\n",
      "  font.set_text(s, 0, flags=flags)\n",
      "C:\\ProgramData\\Anaconda3\\envs\\AI\\lib\\site-packages\\matplotlib\\backends\\backend_agg.py:180: RuntimeWarning: Glyph 20516 missing from current font.\n",
      "  font.set_text(s, 0, flags=flags)\n"
     ]
    },
    {
     "data": {
      "image/png": "[encoded data removed]",
      "text/plain": [
       "<Figure size 432x288 with 1 Axes>"
      ]
     },
     "metadata": {
      "needs_background": "light"
     },
     "output_type": "display_data"
    }
   ],
   "source": [
    "# データの準備\n",
    "timeline = np.arange(10000)\n",
    "epochs = 100\n",
    "\n",
    "# サインデータ生成関数\n",
    "def sinnp(n, line):\n",
    "    return np.sin(line * n / 100)\n",
    "\n",
    "# コサインデータ生成関数\n",
    "def cosnp(n, line):\n",
    "    return np.cos(line * n / 100)\n",
    "\n",
    "# サンプルデータの生成\n",
    "raw_data = (sinnp(1, timeline) + sinnp(3, timeline) + sinnp(10, timeline) + cosnp(5, timeline) + cosnp(7, timeline)) / 5\n",
    "# ノイズ処理\n",
    "raw_data = raw_data + (np.random.rand(len(timeline)) * 0.1)# ノイズ項\n",
    "# 描画\n",
    "plt.plot(timeline[:1000], raw_data[:1000])\n",
    "plt.xlabel(\"時間\")\n",
    "plt.ylabel(\"測定値\")\n",
    "plt.show()"
   ]
  },
  {
   "cell_type": "markdown",
   "metadata": {},
   "source": [
    "これで今回の実験に使うデータは作成完了です。\n",
    "ここで、わざわざノイズ項をいれていますが、意図的にノイズを入れておいたほうが、結果が良くなるので入れてたりします。"
   ]
  },
  {
   "cell_type": "markdown",
   "metadata": {},
   "source": [
    "次に、実験における入力と出力を決める必要があります。  \n",
    "今回はこれくらいなら実用性がありそう、という目論見を持って、\n",
    "\n",
    "「連続した64個の時系列データを元に、次の16個の時系列データを生成する」\n",
    "\n",
    "と言う機械を作りましょう。  \n",
    "すると、入力と出力は次のように形成すると良いと思います。"
   ]
  },
  {
   "cell_type": "code",
   "execution_count": 3,
   "metadata": {},
   "outputs": [
    {
     "data": {
      "text/plain": [
       "(10000,)"
      ]
     },
     "execution_count": 3,
     "metadata": {},
     "output_type": "execute_result"
    }
   ],
   "source": [
    "raw_data.shape"
   ]
  },
  {
   "cell_type": "code",
   "execution_count": 4,
   "metadata": {},
   "outputs": [
    {
     "name": "stdout",
     "output_type": "stream",
     "text": [
      "(9920, 64)\n",
      "(9920, 16)\n"
     ]
    }
   ],
   "source": [
    "input_data = []\n",
    "output_data = []\n",
    "for n in range(10000-80):\n",
    "    input_data.append(raw_data[n:n+64])\n",
    "    output_data.append(raw_data[n+64:n+80])\n",
    "\n",
    "input_data = np.array(input_data)\n",
    "output_data = np.array(output_data)\n",
    "print(input_data.shape)\n",
    "print(output_data.shape)"
   ]
  },
  {
   "cell_type": "markdown",
   "metadata": {},
   "source": [
    "入力と出力のデータが作れましたが、これではまだ十分ではあありません。  \n",
    "一次元畳み込みでは、データの形状に注意する必要があります。  \n",
    "一次元畳み込みそうにおける入力の形状(shape)は(<シーケンス長>, <パラメータ数>)となっていなければなりません。  \n",
    "今回、グラフを作るためのパラメータの個数、つまり、f(t)f(t)は一次元なので、パラメータ数は1となります。  \n",
    "シーケンス長はサンプルとして取ってくる連続したデータ点の個数となりますので、今回は64となります。  \n",
    "\n",
    "ということで、入力データをちゃんと扱える形に整形します。"
   ]
  },
  {
   "cell_type": "code",
   "execution_count": 5,
   "metadata": {},
   "outputs": [
    {
     "name": "stdout",
     "output_type": "stream",
     "text": [
      "(9920, 64, 1)\n",
      "(9920, 16, 1)\n"
     ]
    }
   ],
   "source": [
    "train_X = np.reshape(input_data, (-1, 64, 1))\n",
    "train_Y = np.reshape(output_data, (-1, 16, 1))\n",
    "print(train_X.shape)\n",
    "print(train_Y.shape)"
   ]
  },
  {
   "cell_type": "markdown",
   "metadata": {},
   "source": [
    "## 学習器を作る\n",
    "それでは、学習器を構成する層を積んでみましょう。"
   ]
  },
  {
   "cell_type": "code",
   "execution_count": 6,
   "metadata": {},
   "outputs": [],
   "source": [
    "model = Sequential()\n",
    "model.add(Conv1D(64, 8, padding='same', input_shape=(64, 1), activation='relu'))\n",
    "model.add(MaxPooling1D(2, padding='same'))\n",
    "model.add(Conv1D(64, 8, padding='same', activation='relu'))\n",
    "model.add(MaxPooling1D(2, padding='same'))\n",
    "model.add(Conv1D(32, 8, padding='same', activation='relu'))\n",
    "model.add(Conv1D(1, 8, padding='same', activation='tanh'))\n",
    "\n",
    "model.compile(loss='mse', optimizer='adam')"
   ]
  },
  {
   "cell_type": "markdown",
   "metadata": {},
   "source": [
    "ここでConv1D(filters, kernel_size)が一次元畳み込みを表すそうになります。  \n",
    "Conv1Dの出力層のshapeは (<シーケンス長>, filters)となります。  \n",
    "なので、一番はじめの層を見ると、先に設定した入力は\n",
    "(64, 1) -> (64, 64)というshapeになることがわかります。  \n",
    "また、MaxPooling1Dを使用することで、シーケンス長の部分の次元削減を行います。  \n",
    "最後の層が出力層ですが、ここで今回予測したい出力と次元があうようにしています。  \n",
    "\n",
    "積んだ層がどのようになっているかはsummaryを出すことで確認できます。"
   ]
  },
  {
   "cell_type": "code",
   "execution_count": 7,
   "metadata": {},
   "outputs": [
    {
     "name": "stdout",
     "output_type": "stream",
     "text": [
      "Model: \"sequential_1\"\n",
      "_________________________________________________________________\n",
      "Layer (type)                 Output Shape              Param #   \n",
      "=================================================================\n",
      "conv1d_1 (Conv1D)            (None, 64, 64)            576       \n",
      "_________________________________________________________________\n",
      "max_pooling1d_1 (MaxPooling1 (None, 32, 64)            0         \n",
      "_________________________________________________________________\n",
      "conv1d_2 (Conv1D)            (None, 32, 64)            32832     \n",
      "_________________________________________________________________\n",
      "max_pooling1d_2 (MaxPooling1 (None, 16, 64)            0         \n",
      "_________________________________________________________________\n",
      "conv1d_3 (Conv1D)            (None, 16, 32)            16416     \n",
      "_________________________________________________________________\n",
      "conv1d_4 (Conv1D)            (None, 16, 1)             257       \n",
      "=================================================================\n",
      "Total params: 50,081\n",
      "Trainable params: 50,081\n",
      "Non-trainable params: 0\n",
      "_________________________________________________________________\n"
     ]
    }
   ],
   "source": [
    "model.summary()"
   ]
  },
  {
   "cell_type": "markdown",
   "metadata": {},
   "source": [
    "最後の層の出力が期待値として設定した出力の形状と同じなので、今回は全結合しなくて良い感じです。  \n",
    "それでは学習を開始しましょう。"
   ]
  },
  {
   "cell_type": "code",
   "execution_count": 8,
   "metadata": {},
   "outputs": [
    {
     "name": "stdout",
     "output_type": "stream",
     "text": [
      "Train on 8928 samples, validate on 992 samples\n",
      "Epoch 1/100\n",
      "8928/8928 [==============================] - 2s 222us/step - loss: 0.0317 - val_loss: 0.0097\n",
      "Epoch 2/100\n",
      "8928/8928 [==============================] - 2s 207us/step - loss: 0.0073 - val_loss: 0.0083\n",
      "Epoch 3/100\n",
      "8928/8928 [==============================] - 2s 204us/step - loss: 0.0056 - val_loss: 0.0048\n",
      "Epoch 4/100\n",
      "8928/8928 [==============================] - 2s 204us/step - loss: 0.0048 - val_loss: 0.0043\n",
      "Epoch 5/100\n",
      "8928/8928 [==============================] - 2s 198us/step - loss: 0.0043 - val_loss: 0.0042\n",
      "Epoch 6/100\n",
      "8928/8928 [==============================] - 2s 198us/step - loss: 0.0038 - val_loss: 0.0038\n",
      "Epoch 7/100\n",
      "8928/8928 [==============================] - 2s 199us/step - loss: 0.0035 - val_loss: 0.0033\n",
      "Epoch 8/100\n",
      "8928/8928 [==============================] - 2s 198us/step - loss: 0.0031 - val_loss: 0.0031\n",
      "Epoch 9/100\n",
      "8928/8928 [==============================] - 2s 202us/step - loss: 0.0030 - val_loss: 0.0028\n",
      "Epoch 10/100\n",
      "8928/8928 [==============================] - 2s 202us/step - loss: 0.0028 - val_loss: 0.0031\n",
      "Epoch 00010: early stopping\n"
     ]
    }
   ],
   "source": [
    "# Early-stopping\n",
    "early_stopping = EarlyStopping(patience=0, verbose=1)\n",
    "history = model.fit(train_X, train_Y, validation_split=0.1, epochs=epochs,callbacks=[early_stopping])"
   ]
  },
  {
   "cell_type": "markdown",
   "metadata": {},
   "source": [
    "全データの内、10%をテストデータとして確保することにしました。\n",
    "また、学習過程をhistoryに保存しているので、こいつを表示して学習の収束具合を調べてみましょう。"
   ]
  },
  {
   "cell_type": "code",
   "execution_count": 11,
   "metadata": {},
   "outputs": [
    {
     "data": {
      "image/png": "[encoded data removed]",
      "text/plain": [
       "<Figure size 432x288 with 1 Axes>"
      ]
     },
     "metadata": {
      "needs_background": "light"
     },
     "output_type": "display_data"
    }
   ],
   "source": [
    "plt.plot(history.history['loss'], label='loss')\n",
    "plt.plot(history.history['val_loss'], label='val_loss')\n",
    "plt.xlabel('epoch')\n",
    "plt.ylabel('loss')\n",
    "plt.legend() \n",
    "plt.show()"
   ]
  },
  {
   "cell_type": "markdown",
   "metadata": {},
   "source": [
    "## 学習器を使用してみる\n",
    "学習しただけでは意味がありませんので、軽く使用してみましょう。  \n",
    "今回作ったのは、前の64点から次の16点を導き出す機械ですので、はじめに64点のサンプルを取り出し、それを使って16点を生成したら、その16点を新たにサンプルに加えて、次の16点を生成する・・・を繰り返すジェネレータを作ってみましょう。  \n",
    "今回は20回分、320点先まで予測させてみましょう。"
   ]
  },
  {
   "cell_type": "code",
   "execution_count": 12,
   "metadata": {},
   "outputs": [],
   "source": [
    "start = 9100\n",
    "sheed = np.reshape(raw_data[start:start+64], (1, 64, 1))\n",
    "prediction = sheed\n",
    "\n",
    "for i in range(20):\n",
    "    res = model.predict(sheed)\n",
    "    sheed = np.concatenate((sheed[:, 16:, :], res), axis=1)\n",
    "    prediction = np.concatenate((prediction, res), axis=1)"
   ]
  },
  {
   "cell_type": "markdown",
   "metadata": {},
   "source": [
    "次に、予測結果predictionと元のデータを比較しましょう。  \n",
    "グラフに書き出しやすいように、少々データを整形しています。"
   ]
  },
  {
   "cell_type": "code",
   "execution_count": 13,
   "metadata": {},
   "outputs": [
    {
     "name": "stdout",
     "output_type": "stream",
     "text": [
      "(1, 384, 1)\n",
      "(384,)\n"
     ]
    },
    {
     "data": {
      "image/png": "[encoded data removed]",
      "text/plain": [
       "<Figure size 432x288 with 1 Axes>"
      ]
     },
     "metadata": {
      "needs_background": "light"
     },
     "output_type": "display_data"
    }
   ],
   "source": [
    "print(prediction.shape)\n",
    "predictor = np.reshape(prediction, (-1))\n",
    "print(predictor.shape)\n",
    "plt.plot(range(len(predictor)), predictor, label='predict')\n",
    "plt.plot(range(len(predictor)), raw_data[start:start + len(predictor)], label='real')\n",
    "plt.legend() \n",
    "plt.show()"
   ]
  },
  {
   "cell_type": "markdown",
   "metadata": {},
   "source": [
    "250点前後で、元データとの乖離が激しくなってきていますが、逆を返せば、10回分程度の先読みが\n",
    "成功していると言ってもいいのではないかと思います。"
   ]
  },
  {
   "cell_type": "code",
   "execution_count": null,
   "metadata": {},
   "outputs": [],
   "source": []
  }
 ],
 "metadata": {
  "kernelspec": {
   "display_name": "Python 3",
   "language": "python",
   "name": "python3"
  },
  "language_info": {
   "codemirror_mode": {
    "name": "ipython",
    "version": 3
   },
   "file_extension": ".py",
   "mimetype": "text/x-python",
   "name": "python",
   "nbconvert_exporter": "python",
   "pygments_lexer": "ipython3",
   "version": "3.7.7"
  }
 },
 "nbformat": 4,
 "nbformat_minor": 4
}
