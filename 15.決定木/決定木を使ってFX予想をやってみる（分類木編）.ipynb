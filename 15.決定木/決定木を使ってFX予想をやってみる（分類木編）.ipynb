{
 "cells": [
  {
   "cell_type": "code",
   "execution_count": 1,
   "metadata": {},
   "outputs": [],
   "source": [
    "# データ処理のライブラリ\n",
    "import pandas as pd\n",
    "import numpy as np \n",
    " \n",
    "# データ可視化のライブラリ\n",
    "import matplotlib.pyplot as plt\n",
    " \n",
    "# 機械学習ライブラリ\n",
    "from sklearn.tree import DecisionTreeClassifier\n",
    "from sklearn import tree\n",
    "from sklearn.metrics import confusion_matrix\n",
    "from sklearn.metrics import accuracy_score"
   ]
  },
  {
   "cell_type": "code",
   "execution_count": 3,
   "metadata": {},
   "outputs": [
    {
     "name": "stdout",
     "output_type": "stream",
     "text": [
      "0.13.2\n"
     ]
    }
   ],
   "source": [
    "# graphvizのインポート\n",
    "import graphviz\n",
    " \n",
    "# バージョンの確認\n",
    "print(graphviz.__version__)"
   ]
  },
  {
   "cell_type": "code",
   "execution_count": 4,
   "metadata": {},
   "outputs": [],
   "source": [
    "# CSVファイルの読み込み\n",
    "df = pd.read_csv('usd_jpy_api.csv')"
   ]
  },
  {
   "cell_type": "code",
   "execution_count": 5,
   "metadata": {},
   "outputs": [
    {
     "data": {
      "text/html": [
       "<div>\n",
       "<style scoped>\n",
       "    .dataframe tbody tr th:only-of-type {\n",
       "        vertical-align: middle;\n",
       "    }\n",
       "\n",
       "    .dataframe tbody tr th {\n",
       "        vertical-align: top;\n",
       "    }\n",
       "\n",
       "    .dataframe thead th {\n",
       "        text-align: right;\n",
       "    }\n",
       "</style>\n",
       "<table border=\"1\" class=\"dataframe\">\n",
       "  <thead>\n",
       "    <tr style=\"text-align: right;\">\n",
       "      <th></th>\n",
       "      <th>time</th>\n",
       "      <th>close</th>\n",
       "      <th>open</th>\n",
       "      <th>high</th>\n",
       "      <th>low</th>\n",
       "      <th>volume</th>\n",
       "    </tr>\n",
       "  </thead>\n",
       "  <tbody>\n",
       "    <tr>\n",
       "      <th>495</th>\n",
       "      <td>2018/07/17 06:00:00</td>\n",
       "      <td>112.908</td>\n",
       "      <td>112.320</td>\n",
       "      <td>112.933</td>\n",
       "      <td>112.231</td>\n",
       "      <td>19645</td>\n",
       "    </tr>\n",
       "    <tr>\n",
       "      <th>496</th>\n",
       "      <td>2018/07/18 06:00:00</td>\n",
       "      <td>112.866</td>\n",
       "      <td>112.914</td>\n",
       "      <td>113.144</td>\n",
       "      <td>112.723</td>\n",
       "      <td>17432</td>\n",
       "    </tr>\n",
       "    <tr>\n",
       "      <th>497</th>\n",
       "      <td>2018/07/19 06:00:00</td>\n",
       "      <td>112.501</td>\n",
       "      <td>112.887</td>\n",
       "      <td>113.187</td>\n",
       "      <td>112.072</td>\n",
       "      <td>26697</td>\n",
       "    </tr>\n",
       "    <tr>\n",
       "      <th>498</th>\n",
       "      <td>2018/07/20 06:00:00</td>\n",
       "      <td>111.474</td>\n",
       "      <td>112.504</td>\n",
       "      <td>112.631</td>\n",
       "      <td>111.401</td>\n",
       "      <td>33445</td>\n",
       "    </tr>\n",
       "    <tr>\n",
       "      <th>499</th>\n",
       "      <td>2018/07/23 06:00:00</td>\n",
       "      <td>111.164</td>\n",
       "      <td>111.420</td>\n",
       "      <td>111.523</td>\n",
       "      <td>110.760</td>\n",
       "      <td>16040</td>\n",
       "    </tr>\n",
       "  </tbody>\n",
       "</table>\n",
       "</div>"
      ],
      "text/plain": [
       "                    time    close     open     high      low  volume\n",
       "495  2018/07/17 06:00:00  112.908  112.320  112.933  112.231   19645\n",
       "496  2018/07/18 06:00:00  112.866  112.914  113.144  112.723   17432\n",
       "497  2018/07/19 06:00:00  112.501  112.887  113.187  112.072   26697\n",
       "498  2018/07/20 06:00:00  111.474  112.504  112.631  111.401   33445\n",
       "499  2018/07/23 06:00:00  111.164  111.420  111.523  110.760   16040"
      ]
     },
     "execution_count": 5,
     "metadata": {},
     "output_type": "execute_result"
    }
   ],
   "source": [
    "df.tail()"
   ]
  },
  {
   "cell_type": "code",
   "execution_count": 6,
   "metadata": {},
   "outputs": [
    {
     "data": {
      "text/html": [
       "<div>\n",
       "<style scoped>\n",
       "    .dataframe tbody tr th:only-of-type {\n",
       "        vertical-align: middle;\n",
       "    }\n",
       "\n",
       "    .dataframe tbody tr th {\n",
       "        vertical-align: top;\n",
       "    }\n",
       "\n",
       "    .dataframe thead th {\n",
       "        text-align: right;\n",
       "    }\n",
       "</style>\n",
       "<table border=\"1\" class=\"dataframe\">\n",
       "  <thead>\n",
       "    <tr style=\"text-align: right;\">\n",
       "      <th></th>\n",
       "      <th>time</th>\n",
       "      <th>close</th>\n",
       "      <th>open</th>\n",
       "      <th>high</th>\n",
       "      <th>low</th>\n",
       "      <th>volume</th>\n",
       "      <th>close+1</th>\n",
       "      <th>diff</th>\n",
       "    </tr>\n",
       "  </thead>\n",
       "  <tbody>\n",
       "    <tr>\n",
       "      <th>494</th>\n",
       "      <td>2018/07/16 06:00:00</td>\n",
       "      <td>112.320</td>\n",
       "      <td>112.252</td>\n",
       "      <td>112.570</td>\n",
       "      <td>112.235</td>\n",
       "      <td>12518</td>\n",
       "      <td>112.908</td>\n",
       "      <td>0.588</td>\n",
       "    </tr>\n",
       "    <tr>\n",
       "      <th>495</th>\n",
       "      <td>2018/07/17 06:00:00</td>\n",
       "      <td>112.908</td>\n",
       "      <td>112.320</td>\n",
       "      <td>112.933</td>\n",
       "      <td>112.231</td>\n",
       "      <td>19645</td>\n",
       "      <td>112.866</td>\n",
       "      <td>-0.042</td>\n",
       "    </tr>\n",
       "    <tr>\n",
       "      <th>496</th>\n",
       "      <td>2018/07/18 06:00:00</td>\n",
       "      <td>112.866</td>\n",
       "      <td>112.914</td>\n",
       "      <td>113.144</td>\n",
       "      <td>112.723</td>\n",
       "      <td>17432</td>\n",
       "      <td>112.501</td>\n",
       "      <td>-0.365</td>\n",
       "    </tr>\n",
       "    <tr>\n",
       "      <th>497</th>\n",
       "      <td>2018/07/19 06:00:00</td>\n",
       "      <td>112.501</td>\n",
       "      <td>112.887</td>\n",
       "      <td>113.187</td>\n",
       "      <td>112.072</td>\n",
       "      <td>26697</td>\n",
       "      <td>111.474</td>\n",
       "      <td>-1.027</td>\n",
       "    </tr>\n",
       "    <tr>\n",
       "      <th>498</th>\n",
       "      <td>2018/07/20 06:00:00</td>\n",
       "      <td>111.474</td>\n",
       "      <td>112.504</td>\n",
       "      <td>112.631</td>\n",
       "      <td>111.401</td>\n",
       "      <td>33445</td>\n",
       "      <td>111.164</td>\n",
       "      <td>-0.310</td>\n",
       "    </tr>\n",
       "  </tbody>\n",
       "</table>\n",
       "</div>"
      ],
      "text/plain": [
       "                    time    close     open     high      low  volume  close+1  \\\n",
       "494  2018/07/16 06:00:00  112.320  112.252  112.570  112.235   12518  112.908   \n",
       "495  2018/07/17 06:00:00  112.908  112.320  112.933  112.231   19645  112.866   \n",
       "496  2018/07/18 06:00:00  112.866  112.914  113.144  112.723   17432  112.501   \n",
       "497  2018/07/19 06:00:00  112.501  112.887  113.187  112.072   26697  111.474   \n",
       "498  2018/07/20 06:00:00  111.474  112.504  112.631  111.401   33445  111.164   \n",
       "\n",
       "      diff  \n",
       "494  0.588  \n",
       "495 -0.042  \n",
       "496 -0.365  \n",
       "497 -1.027  \n",
       "498 -0.310  "
      ]
     },
     "execution_count": 6,
     "metadata": {},
     "output_type": "execute_result"
    }
   ],
   "source": [
    "# 翌日終値 - 当日終値で差分を計算\n",
    "df['close+1'] = df.close.shift(-1)\n",
    "df['diff'] = df['close+1'] - df['close']\n",
    "df = df[:-1]\n",
    " \n",
    "# 最後の5行を確認\n",
    "df.tail()"
   ]
  },
  {
   "cell_type": "code",
   "execution_count": 7,
   "metadata": {},
   "outputs": [
    {
     "name": "stdout",
     "output_type": "stream",
     "text": [
      "50.70140280561122\n",
      "49.298597194388776\n"
     ]
    }
   ],
   "source": [
    "# 上昇と下降のデータ割合を確認\n",
    "m = len(df['close'])\n",
    "print(len(df[(df['diff'] > 0)]) / m * 100)\n",
    "print(len(df[(df['diff'] < 0)]) / m * 100)"
   ]
  },
  {
   "cell_type": "code",
   "execution_count": 8,
   "metadata": {},
   "outputs": [
    {
     "data": {
      "text/html": [
       "<div>\n",
       "<style scoped>\n",
       "    .dataframe tbody tr th:only-of-type {\n",
       "        vertical-align: middle;\n",
       "    }\n",
       "\n",
       "    .dataframe tbody tr th {\n",
       "        vertical-align: top;\n",
       "    }\n",
       "\n",
       "    .dataframe thead th {\n",
       "        text-align: right;\n",
       "    }\n",
       "</style>\n",
       "<table border=\"1\" class=\"dataframe\">\n",
       "  <thead>\n",
       "    <tr style=\"text-align: right;\">\n",
       "      <th></th>\n",
       "      <th>time</th>\n",
       "      <th>close</th>\n",
       "      <th>open</th>\n",
       "      <th>high</th>\n",
       "      <th>low</th>\n",
       "      <th>volume</th>\n",
       "      <th>close+1</th>\n",
       "      <th>diff</th>\n",
       "    </tr>\n",
       "  </thead>\n",
       "  <tbody>\n",
       "    <tr>\n",
       "      <th>0</th>\n",
       "      <td>2016/08/19 06:00:00</td>\n",
       "      <td>100.256</td>\n",
       "      <td>99.919</td>\n",
       "      <td>100.471</td>\n",
       "      <td>99.887</td>\n",
       "      <td>30965</td>\n",
       "      <td>100.335</td>\n",
       "      <td>1.0</td>\n",
       "    </tr>\n",
       "    <tr>\n",
       "      <th>1</th>\n",
       "      <td>2016/08/22 06:00:00</td>\n",
       "      <td>100.335</td>\n",
       "      <td>100.832</td>\n",
       "      <td>100.944</td>\n",
       "      <td>100.221</td>\n",
       "      <td>32920</td>\n",
       "      <td>100.253</td>\n",
       "      <td>0.0</td>\n",
       "    </tr>\n",
       "    <tr>\n",
       "      <th>2</th>\n",
       "      <td>2016/08/23 06:00:00</td>\n",
       "      <td>100.253</td>\n",
       "      <td>100.339</td>\n",
       "      <td>100.405</td>\n",
       "      <td>99.950</td>\n",
       "      <td>26069</td>\n",
       "      <td>100.460</td>\n",
       "      <td>1.0</td>\n",
       "    </tr>\n",
       "    <tr>\n",
       "      <th>3</th>\n",
       "      <td>2016/08/24 06:00:00</td>\n",
       "      <td>100.460</td>\n",
       "      <td>100.270</td>\n",
       "      <td>100.619</td>\n",
       "      <td>100.104</td>\n",
       "      <td>22340</td>\n",
       "      <td>100.546</td>\n",
       "      <td>1.0</td>\n",
       "    </tr>\n",
       "    <tr>\n",
       "      <th>4</th>\n",
       "      <td>2016/08/25 06:00:00</td>\n",
       "      <td>100.546</td>\n",
       "      <td>100.464</td>\n",
       "      <td>100.627</td>\n",
       "      <td>100.314</td>\n",
       "      <td>17224</td>\n",
       "      <td>101.876</td>\n",
       "      <td>1.0</td>\n",
       "    </tr>\n",
       "  </tbody>\n",
       "</table>\n",
       "</div>"
      ],
      "text/plain": [
       "                  time    close     open     high      low  volume  close+1  \\\n",
       "0  2016/08/19 06:00:00  100.256   99.919  100.471   99.887   30965  100.335   \n",
       "1  2016/08/22 06:00:00  100.335  100.832  100.944  100.221   32920  100.253   \n",
       "2  2016/08/23 06:00:00  100.253  100.339  100.405   99.950   26069  100.460   \n",
       "3  2016/08/24 06:00:00  100.460  100.270  100.619  100.104   22340  100.546   \n",
       "4  2016/08/25 06:00:00  100.546  100.464  100.627  100.314   17224  101.876   \n",
       "\n",
       "   diff  \n",
       "0   1.0  \n",
       "1   0.0  \n",
       "2   1.0  \n",
       "3   1.0  \n",
       "4   1.0  "
      ]
     },
     "execution_count": 8,
     "metadata": {},
     "output_type": "execute_result"
    }
   ],
   "source": [
    "# 上昇したら「1」、下降したら「0」へデータを変換\n",
    "mask1 = df['diff'] > 0\n",
    "mask2 = df['diff'] < 0\n",
    "column_name = 'diff'\n",
    "df.loc[mask1, column_name] = 1\n",
    "df.loc[mask2, column_name] = 0\n",
    " \n",
    "# 最初の5行を表示\n",
    "df.head()"
   ]
  },
  {
   "cell_type": "code",
   "execution_count": 9,
   "metadata": {},
   "outputs": [
    {
     "data": {
      "text/html": [
       "<div>\n",
       "<style scoped>\n",
       "    .dataframe tbody tr th:only-of-type {\n",
       "        vertical-align: middle;\n",
       "    }\n",
       "\n",
       "    .dataframe tbody tr th {\n",
       "        vertical-align: top;\n",
       "    }\n",
       "\n",
       "    .dataframe thead th {\n",
       "        text-align: right;\n",
       "    }\n",
       "</style>\n",
       "<table border=\"1\" class=\"dataframe\">\n",
       "  <thead>\n",
       "    <tr style=\"text-align: right;\">\n",
       "      <th></th>\n",
       "      <th>target</th>\n",
       "      <th>close</th>\n",
       "      <th>open</th>\n",
       "      <th>high</th>\n",
       "      <th>low</th>\n",
       "      <th>volume</th>\n",
       "    </tr>\n",
       "  </thead>\n",
       "  <tbody>\n",
       "    <tr>\n",
       "      <th>0</th>\n",
       "      <td>1.0</td>\n",
       "      <td>100.256</td>\n",
       "      <td>99.919</td>\n",
       "      <td>100.471</td>\n",
       "      <td>99.887</td>\n",
       "      <td>30965</td>\n",
       "    </tr>\n",
       "    <tr>\n",
       "      <th>1</th>\n",
       "      <td>0.0</td>\n",
       "      <td>100.335</td>\n",
       "      <td>100.832</td>\n",
       "      <td>100.944</td>\n",
       "      <td>100.221</td>\n",
       "      <td>32920</td>\n",
       "    </tr>\n",
       "    <tr>\n",
       "      <th>2</th>\n",
       "      <td>1.0</td>\n",
       "      <td>100.253</td>\n",
       "      <td>100.339</td>\n",
       "      <td>100.405</td>\n",
       "      <td>99.950</td>\n",
       "      <td>26069</td>\n",
       "    </tr>\n",
       "    <tr>\n",
       "      <th>3</th>\n",
       "      <td>1.0</td>\n",
       "      <td>100.460</td>\n",
       "      <td>100.270</td>\n",
       "      <td>100.619</td>\n",
       "      <td>100.104</td>\n",
       "      <td>22340</td>\n",
       "    </tr>\n",
       "    <tr>\n",
       "      <th>4</th>\n",
       "      <td>1.0</td>\n",
       "      <td>100.546</td>\n",
       "      <td>100.464</td>\n",
       "      <td>100.627</td>\n",
       "      <td>100.314</td>\n",
       "      <td>17224</td>\n",
       "    </tr>\n",
       "  </tbody>\n",
       "</table>\n",
       "</div>"
      ],
      "text/plain": [
       "   target    close     open     high      low  volume\n",
       "0     1.0  100.256   99.919  100.471   99.887   30965\n",
       "1     0.0  100.335  100.832  100.944  100.221   32920\n",
       "2     1.0  100.253  100.339  100.405   99.950   26069\n",
       "3     1.0  100.460  100.270  100.619  100.104   22340\n",
       "4     1.0  100.546  100.464  100.627  100.314   17224"
      ]
     },
     "execution_count": 9,
     "metadata": {},
     "output_type": "execute_result"
    }
   ],
   "source": [
    "# カラム名をtagertへ変換\n",
    "df.rename(columns={\"diff\" : \"target\"}, inplace=True)\n",
    " \n",
    "# 不要なカラムを削除\n",
    "del df['time']\n",
    "del df['close+1']\n",
    " \n",
    "# カラムの並び替え\n",
    "df = df[['target', 'close', 'open', 'high', 'low', 'volume']]\n",
    " \n",
    "# 最初の5行を出力\n",
    "df.head()"
   ]
  },
  {
   "cell_type": "code",
   "execution_count": 11,
   "metadata": {},
   "outputs": [],
   "source": [
    "# データセットの行数、列数を取得\n",
    "n = df.shape[0]\n",
    "p = df.shape[1]\n",
    " \n",
    "# 訓練データとテストデータへ分割\n",
    "train_start = 0\n",
    "train_end = int(np.floor(0.8*n))\n",
    "test_start = train_end + 1\n",
    "test_end = n"
   ]
  },
  {
   "cell_type": "code",
   "execution_count": 40,
   "metadata": {},
   "outputs": [
    {
     "name": "stdout",
     "output_type": "stream",
     "text": [
      "0 399\n",
      "400 499\n"
     ]
    }
   ],
   "source": [
    "print(train_start, train_end)\n",
    "print(test_start, test_end)"
   ]
  },
  {
   "cell_type": "code",
   "execution_count": 51,
   "metadata": {},
   "outputs": [
    {
     "name": "stdout",
     "output_type": "stream",
     "text": [
      "(399, 6)\n",
      "(99, 6)\n"
     ]
    }
   ],
   "source": [
    "data_train = df.loc[np.arange(train_start, train_end), :]\n",
    "data_test = df.loc[np.arange(test_start, test_end), :]\n",
    " \n",
    "# 訓練データとテストデータのサイズを確認\n",
    "print(data_train.shape)\n",
    "print(data_test.shape)"
   ]
  },
  {
   "cell_type": "code",
   "execution_count": 79,
   "metadata": {},
   "outputs": [],
   "source": [
    "# 特徴量とターゲットにデータを切り分け\n",
    "X_train = data_train.iloc[:,1]\n",
    "y_train = data_train.iloc[:, 0]\n",
    "X_test = data_test.iloc[:, 1]\n",
    "y_test = data_test.iloc[:, 0]"
   ]
  },
  {
   "cell_type": "code",
   "execution_count": 82,
   "metadata": {},
   "outputs": [],
   "source": [
    "X_train = np.array(X_train)\n",
    "y_train = np.array(y_train)"
   ]
  },
  {
   "cell_type": "code",
   "execution_count": 83,
   "metadata": {},
   "outputs": [
    {
     "ename": "ValueError",
     "evalue": "Expected 2D array, got 1D array instead:\narray=[100.256 100.335 100.253 100.46  100.546 101.876 101.928 102.983 103.434\n 103.246 103.992 103.461 102.034 101.752 102.5   102.745 101.86  102.569\n 102.441 102.102 102.301 101.939 101.733 100.349 100.778 101.05  100.346\n 100.453 100.705 101.064 101.403 101.665 102.919 103.513 103.969 102.953\n 103.624 103.529 104.223 103.712 104.209 103.898 103.875 103.458 103.964\n 103.856 104.195 104.235 104.49  105.299 104.758 104.838 104.172 103.322\n 102.989 103.164 104.494 105.199 105.678 106.85  106.733 108.441 109.216\n 109.095 110.165 110.961 110.873 111.164 112.547 113.378 113.303 111.946\n 112.41  114.475 114.116 113.565 113.877 114.036 113.78  114.047 115.37\n 115.039 115.2   117.06  118.202 117.963 117.117 117.892 117.575 117.564\n 117.383 117.437 117.278 116.555 117.067 117.761 117.264 115.382 117.032\n 116.073 115.788 115.426 114.736 114.548 114.222 112.625 114.646 114.877\n 114.635 112.713 113.801 113.306 114.551 115.144 113.791 112.813 113.268\n 112.818 112.646 111.756 112.416 111.944 113.267 113.277 113.747 114.279\n 114.165 113.255 112.859 113.129 113.693 113.334 112.637 112.179 112.701\n 112.803 113.737 114.418 114.055 113.906 113.991 114.399 114.977 114.808\n 114.89  114.758 113.393 113.319 112.756 112.569 111.734 111.169 110.942\n 111.355 110.678 111.153 111.06  111.935 111.406 110.912 110.749 110.707\n 110.816 111.101 110.943 109.618 109.035 109.117 108.696 108.913 108.446\n 108.865 109.324 109.117 109.782 111.115 111.079 111.274 111.559 111.85\n 112.003 112.773 112.474 112.736 113.266 114.033 114.298 113.874 113.368\n 113.82  113.13  110.854 111.497 111.272 111.303 111.798 111.5   111.846\n 111.354 111.285 110.876 110.794 111.382 110.437 110.487 109.433 109.832\n 110.046 110.344 109.955 110.075 109.59  110.963 110.937 111.554 111.483\n 111.39  111.332 111.349 111.879 112.359 112.323 112.177 112.462 113.409\n 113.303 113.267 113.231 113.978 114.049 113.951 113.182 113.293 112.554\n 112.633 112.09  111.971 111.938 111.16  111.114 111.901 111.198 111.288\n 110.733 110.267 110.39  110.752 110.059 110.732 110.757 110.343 110.088\n 109.22  109.228 109.646 110.692 110.203 109.583 109.234 108.992 109.592\n 109.052 109.571 109.393 109.265 109.775 110.264 109.989 110.299 109.747\n 108.824 109.252 108.475 107.868 109.411 110.179 110.502 110.272 110.866\n 111.584 111.608 112.221 112.509 112.023 111.756 112.26  112.847 112.365\n 112.572 112.8   112.875 112.784 112.847 112.711 112.696 112.711 112.476\n 112.522 112.316 111.909 112.221 112.23  112.962 112.569 113.574 113.558\n 113.458 113.943 113.771 114.016 113.748 113.206 113.663 114.208 114.106\n 114.122 113.735 114.028 113.896 113.493 113.593 113.651 113.484 112.899\n 113.085 112.186 112.65  112.477 111.247 111.253 111.579 111.133 111.514\n 111.959 112.563 112.316 112.438 112.634 112.316 113.112 113.522 113.592\n 113.571 112.569 112.428 112.662 112.571 112.91  113.431 113.36  113.334\n 113.262 113.386 112.902 112.736 112.32  112.536 112.777 113.097 113.121\n 112.682 111.463 111.301 111.086 110.577 110.491 111.332 111.146 110.858\n 110.968 110.332 109.258 109.442 108.651 108.984 108.807 109.206 109.436\n 110.206 109.165 109.587 109.376 108.774 108.842 108.684 107.842 107.037\n 106.154 106.334 106.623 107.355 107.801 106.779 106.916 106.972 107.351\n 106.698 106.271 105.783].\nReshape your data either using array.reshape(-1, 1) if your data has a single feature or array.reshape(1, -1) if it contains a single sample.",
     "output_type": "error",
     "traceback": [
      "\u001b[1;31m---------------------------------------------------------------------------\u001b[0m",
      "\u001b[1;31mValueError\u001b[0m                                Traceback (most recent call last)",
      "\u001b[1;32m<ipython-input-83-e2ed4747e532>\u001b[0m in \u001b[0;36m<module>\u001b[1;34m\u001b[0m\n\u001b[0;32m      1\u001b[0m \u001b[1;31m# 決定技モデルの訓練\u001b[0m\u001b[1;33m\u001b[0m\u001b[1;33m\u001b[0m\u001b[1;33m\u001b[0m\u001b[0m\n\u001b[0;32m      2\u001b[0m \u001b[0mclf_2\u001b[0m \u001b[1;33m=\u001b[0m \u001b[0mDecisionTreeClassifier\u001b[0m\u001b[1;33m(\u001b[0m\u001b[0mmax_depth\u001b[0m\u001b[1;33m=\u001b[0m\u001b[1;36m2\u001b[0m\u001b[1;33m)\u001b[0m\u001b[1;33m\u001b[0m\u001b[1;33m\u001b[0m\u001b[0m\n\u001b[1;32m----> 3\u001b[1;33m \u001b[0mclf_2\u001b[0m \u001b[1;33m=\u001b[0m \u001b[0mclf_2\u001b[0m\u001b[1;33m.\u001b[0m\u001b[0mfit\u001b[0m\u001b[1;33m(\u001b[0m\u001b[0mX_train\u001b[0m\u001b[1;33m,\u001b[0m \u001b[0my_train\u001b[0m\u001b[1;33m)\u001b[0m\u001b[1;33m\u001b[0m\u001b[1;33m\u001b[0m\u001b[0m\n\u001b[0m",
      "\u001b[1;32mC:\\ProgramData\\Anaconda3\\envs\\AI\\lib\\site-packages\\sklearn\\tree\\_classes.py\u001b[0m in \u001b[0;36mfit\u001b[1;34m(self, X, y, sample_weight, check_input, X_idx_sorted)\u001b[0m\n\u001b[0;32m    875\u001b[0m             \u001b[0msample_weight\u001b[0m\u001b[1;33m=\u001b[0m\u001b[0msample_weight\u001b[0m\u001b[1;33m,\u001b[0m\u001b[1;33m\u001b[0m\u001b[1;33m\u001b[0m\u001b[0m\n\u001b[0;32m    876\u001b[0m             \u001b[0mcheck_input\u001b[0m\u001b[1;33m=\u001b[0m\u001b[0mcheck_input\u001b[0m\u001b[1;33m,\u001b[0m\u001b[1;33m\u001b[0m\u001b[1;33m\u001b[0m\u001b[0m\n\u001b[1;32m--> 877\u001b[1;33m             X_idx_sorted=X_idx_sorted)\n\u001b[0m\u001b[0;32m    878\u001b[0m         \u001b[1;32mreturn\u001b[0m \u001b[0mself\u001b[0m\u001b[1;33m\u001b[0m\u001b[1;33m\u001b[0m\u001b[0m\n\u001b[0;32m    879\u001b[0m \u001b[1;33m\u001b[0m\u001b[0m\n",
      "\u001b[1;32mC:\\ProgramData\\Anaconda3\\envs\\AI\\lib\\site-packages\\sklearn\\tree\\_classes.py\u001b[0m in \u001b[0;36mfit\u001b[1;34m(self, X, y, sample_weight, check_input, X_idx_sorted)\u001b[0m\n\u001b[0;32m    147\u001b[0m \u001b[1;33m\u001b[0m\u001b[0m\n\u001b[0;32m    148\u001b[0m         \u001b[1;32mif\u001b[0m \u001b[0mcheck_input\u001b[0m\u001b[1;33m:\u001b[0m\u001b[1;33m\u001b[0m\u001b[1;33m\u001b[0m\u001b[0m\n\u001b[1;32m--> 149\u001b[1;33m             \u001b[0mX\u001b[0m \u001b[1;33m=\u001b[0m \u001b[0mcheck_array\u001b[0m\u001b[1;33m(\u001b[0m\u001b[0mX\u001b[0m\u001b[1;33m,\u001b[0m \u001b[0mdtype\u001b[0m\u001b[1;33m=\u001b[0m\u001b[0mDTYPE\u001b[0m\u001b[1;33m,\u001b[0m \u001b[0maccept_sparse\u001b[0m\u001b[1;33m=\u001b[0m\u001b[1;34m\"csc\"\u001b[0m\u001b[1;33m)\u001b[0m\u001b[1;33m\u001b[0m\u001b[1;33m\u001b[0m\u001b[0m\n\u001b[0m\u001b[0;32m    150\u001b[0m             \u001b[0my\u001b[0m \u001b[1;33m=\u001b[0m \u001b[0mcheck_array\u001b[0m\u001b[1;33m(\u001b[0m\u001b[0my\u001b[0m\u001b[1;33m,\u001b[0m \u001b[0mensure_2d\u001b[0m\u001b[1;33m=\u001b[0m\u001b[1;32mFalse\u001b[0m\u001b[1;33m,\u001b[0m \u001b[0mdtype\u001b[0m\u001b[1;33m=\u001b[0m\u001b[1;32mNone\u001b[0m\u001b[1;33m)\u001b[0m\u001b[1;33m\u001b[0m\u001b[1;33m\u001b[0m\u001b[0m\n\u001b[0;32m    151\u001b[0m             \u001b[1;32mif\u001b[0m \u001b[0missparse\u001b[0m\u001b[1;33m(\u001b[0m\u001b[0mX\u001b[0m\u001b[1;33m)\u001b[0m\u001b[1;33m:\u001b[0m\u001b[1;33m\u001b[0m\u001b[1;33m\u001b[0m\u001b[0m\n",
      "\u001b[1;32mC:\\ProgramData\\Anaconda3\\envs\\AI\\lib\\site-packages\\sklearn\\utils\\validation.py\u001b[0m in \u001b[0;36mcheck_array\u001b[1;34m(array, accept_sparse, accept_large_sparse, dtype, order, copy, force_all_finite, ensure_2d, allow_nd, ensure_min_samples, ensure_min_features, warn_on_dtype, estimator)\u001b[0m\n\u001b[0;32m    554\u001b[0m                     \u001b[1;34m\"Reshape your data either using array.reshape(-1, 1) if \"\u001b[0m\u001b[1;33m\u001b[0m\u001b[1;33m\u001b[0m\u001b[0m\n\u001b[0;32m    555\u001b[0m                     \u001b[1;34m\"your data has a single feature or array.reshape(1, -1) \"\u001b[0m\u001b[1;33m\u001b[0m\u001b[1;33m\u001b[0m\u001b[0m\n\u001b[1;32m--> 556\u001b[1;33m                     \"if it contains a single sample.\".format(array))\n\u001b[0m\u001b[0;32m    557\u001b[0m \u001b[1;33m\u001b[0m\u001b[0m\n\u001b[0;32m    558\u001b[0m         \u001b[1;31m# in the future np.flexible dtypes will be handled like object dtypes\u001b[0m\u001b[1;33m\u001b[0m\u001b[1;33m\u001b[0m\u001b[1;33m\u001b[0m\u001b[0m\n",
      "\u001b[1;31mValueError\u001b[0m: Expected 2D array, got 1D array instead:\narray=[100.256 100.335 100.253 100.46  100.546 101.876 101.928 102.983 103.434\n 103.246 103.992 103.461 102.034 101.752 102.5   102.745 101.86  102.569\n 102.441 102.102 102.301 101.939 101.733 100.349 100.778 101.05  100.346\n 100.453 100.705 101.064 101.403 101.665 102.919 103.513 103.969 102.953\n 103.624 103.529 104.223 103.712 104.209 103.898 103.875 103.458 103.964\n 103.856 104.195 104.235 104.49  105.299 104.758 104.838 104.172 103.322\n 102.989 103.164 104.494 105.199 105.678 106.85  106.733 108.441 109.216\n 109.095 110.165 110.961 110.873 111.164 112.547 113.378 113.303 111.946\n 112.41  114.475 114.116 113.565 113.877 114.036 113.78  114.047 115.37\n 115.039 115.2   117.06  118.202 117.963 117.117 117.892 117.575 117.564\n 117.383 117.437 117.278 116.555 117.067 117.761 117.264 115.382 117.032\n 116.073 115.788 115.426 114.736 114.548 114.222 112.625 114.646 114.877\n 114.635 112.713 113.801 113.306 114.551 115.144 113.791 112.813 113.268\n 112.818 112.646 111.756 112.416 111.944 113.267 113.277 113.747 114.279\n 114.165 113.255 112.859 113.129 113.693 113.334 112.637 112.179 112.701\n 112.803 113.737 114.418 114.055 113.906 113.991 114.399 114.977 114.808\n 114.89  114.758 113.393 113.319 112.756 112.569 111.734 111.169 110.942\n 111.355 110.678 111.153 111.06  111.935 111.406 110.912 110.749 110.707\n 110.816 111.101 110.943 109.618 109.035 109.117 108.696 108.913 108.446\n 108.865 109.324 109.117 109.782 111.115 111.079 111.274 111.559 111.85\n 112.003 112.773 112.474 112.736 113.266 114.033 114.298 113.874 113.368\n 113.82  113.13  110.854 111.497 111.272 111.303 111.798 111.5   111.846\n 111.354 111.285 110.876 110.794 111.382 110.437 110.487 109.433 109.832\n 110.046 110.344 109.955 110.075 109.59  110.963 110.937 111.554 111.483\n 111.39  111.332 111.349 111.879 112.359 112.323 112.177 112.462 113.409\n 113.303 113.267 113.231 113.978 114.049 113.951 113.182 113.293 112.554\n 112.633 112.09  111.971 111.938 111.16  111.114 111.901 111.198 111.288\n 110.733 110.267 110.39  110.752 110.059 110.732 110.757 110.343 110.088\n 109.22  109.228 109.646 110.692 110.203 109.583 109.234 108.992 109.592\n 109.052 109.571 109.393 109.265 109.775 110.264 109.989 110.299 109.747\n 108.824 109.252 108.475 107.868 109.411 110.179 110.502 110.272 110.866\n 111.584 111.608 112.221 112.509 112.023 111.756 112.26  112.847 112.365\n 112.572 112.8   112.875 112.784 112.847 112.711 112.696 112.711 112.476\n 112.522 112.316 111.909 112.221 112.23  112.962 112.569 113.574 113.558\n 113.458 113.943 113.771 114.016 113.748 113.206 113.663 114.208 114.106\n 114.122 113.735 114.028 113.896 113.493 113.593 113.651 113.484 112.899\n 113.085 112.186 112.65  112.477 111.247 111.253 111.579 111.133 111.514\n 111.959 112.563 112.316 112.438 112.634 112.316 113.112 113.522 113.592\n 113.571 112.569 112.428 112.662 112.571 112.91  113.431 113.36  113.334\n 113.262 113.386 112.902 112.736 112.32  112.536 112.777 113.097 113.121\n 112.682 111.463 111.301 111.086 110.577 110.491 111.332 111.146 110.858\n 110.968 110.332 109.258 109.442 108.651 108.984 108.807 109.206 109.436\n 110.206 109.165 109.587 109.376 108.774 108.842 108.684 107.842 107.037\n 106.154 106.334 106.623 107.355 107.801 106.779 106.916 106.972 107.351\n 106.698 106.271 105.783].\nReshape your data either using array.reshape(-1, 1) if your data has a single feature or array.reshape(1, -1) if it contains a single sample."
     ]
    }
   ],
   "source": [
    "# 決定技モデルの訓練\n",
    "clf_2 = DecisionTreeClassifier(max_depth=2)\n",
    "clf_2 = clf_2.fit(X_train, y_train)"
   ]
  },
  {
   "cell_type": "code",
   "execution_count": null,
   "metadata": {},
   "outputs": [],
   "source": []
  }
 ],
 "metadata": {
  "kernelspec": {
   "display_name": "Python 3",
   "language": "python",
   "name": "python3"
  },
  "language_info": {
   "codemirror_mode": {
    "name": "ipython",
    "version": 3
   },
   "file_extension": ".py",
   "mimetype": "text/x-python",
   "name": "python",
   "nbconvert_exporter": "python",
   "pygments_lexer": "ipython3",
   "version": "3.7.7"
  }
 },
 "nbformat": 4,
 "nbformat_minor": 4
}
