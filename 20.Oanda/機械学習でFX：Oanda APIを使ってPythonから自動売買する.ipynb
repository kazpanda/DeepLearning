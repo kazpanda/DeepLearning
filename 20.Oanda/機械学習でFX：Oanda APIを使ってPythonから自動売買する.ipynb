{
 "cells": [
  {
   "cell_type": "code",
   "execution_count": 2,
   "metadata": {},
   "outputs": [],
   "source": [
    "from oandapyV20 import API\n",
    "from oandapyV20.exceptions import V20Error\n",
    "from oandapyV20.endpoints.pricing import PricingStream\n",
    "import oandapyV20.endpoints.orders as orders\n",
    "import oandapyV20.endpoints.instruments as instruments\n",
    "\n",
    "import json\n",
    "import datetime\n",
    "import pandas as pd\n",
    "from dateutil.relativedelta import relativedelta"
   ]
  },
  {
   "cell_type": "code",
   "execution_count": 3,
   "metadata": {},
   "outputs": [],
   "source": [
    "#自分のアカウント、トークンをセット\n",
    "accountID = \"101-009-12923052-001\"\n",
    "access_token = '7b8e8782a87ce72d52cd23b2d74772df-13011574ae44dc0db94fc8dac52e4ebc'\n",
    "api = API(access_token=access_token, environment=\"practice\")"
   ]
  },
  {
   "cell_type": "code",
   "execution_count": 4,
   "metadata": {},
   "outputs": [],
   "source": [
    "year_months =[\n",
    "    [2016, 1], [2016, 2], [2016, 3], [2016, 4], [2016, 5], [2016, 6], [2016, 7], [2016, 8], [2016, 9], [2016, 10], [2016, 11], [2016, 12],\n",
    "    [2017, 1], [2017, 2], [2017, 3], [2017, 4], [2017, 5], [2017, 6], [2017, 7], [2017, 8], [2017, 9], [2017, 10], [2017, 11], [2017, 12],\n",
    "    [2018, 1], [2018, 2], [2018, 3], [2018, 4], [2018, 5], [2018, 6], [2018, 7], [2018, 8], [2018, 9], [2018, 10], [2018, 11], [2018, 12],\n",
    "    [2019, 1], [2019, 2], [2019, 3], [2019, 4], [2019, 5], [2019, 6], [2019, 7],\n",
    "]"
   ]
  },
  {
   "cell_type": "code",
   "execution_count": 5,
   "metadata": {},
   "outputs": [],
   "source": [
    "# Oandaからcandleデータを取得する。\n",
    "def getCandleDataFromOanda(instrument, api, date_from, date_to, granularity):\n",
    "    params = {\n",
    "        \"from\": date_from.isoformat(),\n",
    "        \"to\": date_to.isoformat(),\n",
    "        \"granularity\": granularity,\n",
    "    }\n",
    "    r = instruments.InstrumentsCandles(instrument=instrument, params=params)\n",
    "    return api.request(r)"
   ]
  },
  {
   "cell_type": "code",
   "execution_count": 6,
   "metadata": {},
   "outputs": [],
   "source": [
    "def oandaJsonToPythonList(JSONRes):\n",
    "    data = []\n",
    "    for res in JSONRes['candles']:\n",
    "        data.append( [\n",
    "            datetime.datetime.fromisoformat(res['time'][:19]),\n",
    "            res['volume'],\n",
    "            res['mid']['o'],\n",
    "            res['mid']['h'],\n",
    "            res['mid']['l'],\n",
    "            res['mid']['c'],\n",
    "            ])\n",
    "    return data"
   ]
  },
  {
   "cell_type": "code",
   "execution_count": 7,
   "metadata": {},
   "outputs": [],
   "source": [
    "all_data = []\n",
    "# year, monthでループ\n",
    "for year, month in year_months:\n",
    "    date_from = datetime.datetime(year, month, 1)\n",
    "    date_to = date_from + relativedelta(months=+1, day=1)\n",
    "\n",
    "    ret = getCandleDataFromOanda(\"USD_JPY\", api, date_from, date_to, \"M10\")\n",
    "    month_data = oandaJsonToPythonList(ret)\n",
    "\n",
    "    all_data.extend(month_data)"
   ]
  },
  {
   "cell_type": "code",
   "execution_count": 8,
   "metadata": {},
   "outputs": [],
   "source": [
    "# pandas DataFrameへ変換\n",
    "df = pd.DataFrame(all_data)\n",
    "df.columns = ['Datetime', 'Volume', 'Open', 'High', 'Low', 'Close']\n",
    "df = df.set_index('Datetime')"
   ]
  },
  {
   "cell_type": "code",
   "execution_count": 9,
   "metadata": {},
   "outputs": [
    {
     "data": {
      "text/plain": [
       "(133486, 5)"
      ]
     },
     "execution_count": 9,
     "metadata": {},
     "output_type": "execute_result"
    }
   ],
   "source": [
    "df.shape"
   ]
  },
  {
   "cell_type": "code",
   "execution_count": 10,
   "metadata": {},
   "outputs": [
    {
     "data": {
      "text/html": [
       "<div>\n",
       "<style scoped>\n",
       "    .dataframe tbody tr th:only-of-type {\n",
       "        vertical-align: middle;\n",
       "    }\n",
       "\n",
       "    .dataframe tbody tr th {\n",
       "        vertical-align: top;\n",
       "    }\n",
       "\n",
       "    .dataframe thead th {\n",
       "        text-align: right;\n",
       "    }\n",
       "</style>\n",
       "<table border=\"1\" class=\"dataframe\">\n",
       "  <thead>\n",
       "    <tr style=\"text-align: right;\">\n",
       "      <th></th>\n",
       "      <th>Volume</th>\n",
       "      <th>Open</th>\n",
       "      <th>High</th>\n",
       "      <th>Low</th>\n",
       "      <th>Close</th>\n",
       "    </tr>\n",
       "    <tr>\n",
       "      <th>Datetime</th>\n",
       "      <th></th>\n",
       "      <th></th>\n",
       "      <th></th>\n",
       "      <th></th>\n",
       "      <th></th>\n",
       "    </tr>\n",
       "  </thead>\n",
       "  <tbody>\n",
       "    <tr>\n",
       "      <th>2016-01-03 22:00:00</th>\n",
       "      <td>162</td>\n",
       "      <td>120.195</td>\n",
       "      <td>120.235</td>\n",
       "      <td>120.194</td>\n",
       "      <td>120.227</td>\n",
       "    </tr>\n",
       "    <tr>\n",
       "      <th>2016-01-03 22:10:00</th>\n",
       "      <td>208</td>\n",
       "      <td>120.226</td>\n",
       "      <td>120.253</td>\n",
       "      <td>120.209</td>\n",
       "      <td>120.236</td>\n",
       "    </tr>\n",
       "    <tr>\n",
       "      <th>2016-01-03 22:20:00</th>\n",
       "      <td>333</td>\n",
       "      <td>120.235</td>\n",
       "      <td>120.283</td>\n",
       "      <td>120.233</td>\n",
       "      <td>120.274</td>\n",
       "    </tr>\n",
       "    <tr>\n",
       "      <th>2016-01-03 22:30:00</th>\n",
       "      <td>359</td>\n",
       "      <td>120.274</td>\n",
       "      <td>120.304</td>\n",
       "      <td>120.268</td>\n",
       "      <td>120.286</td>\n",
       "    </tr>\n",
       "    <tr>\n",
       "      <th>2016-01-03 22:40:00</th>\n",
       "      <td>242</td>\n",
       "      <td>120.288</td>\n",
       "      <td>120.330</td>\n",
       "      <td>120.277</td>\n",
       "      <td>120.313</td>\n",
       "    </tr>\n",
       "  </tbody>\n",
       "</table>\n",
       "</div>"
      ],
      "text/plain": [
       "                     Volume     Open     High      Low    Close\n",
       "Datetime                                                       \n",
       "2016-01-03 22:00:00     162  120.195  120.235  120.194  120.227\n",
       "2016-01-03 22:10:00     208  120.226  120.253  120.209  120.236\n",
       "2016-01-03 22:20:00     333  120.235  120.283  120.233  120.274\n",
       "2016-01-03 22:30:00     359  120.274  120.304  120.268  120.286\n",
       "2016-01-03 22:40:00     242  120.288  120.330  120.277  120.313"
      ]
     },
     "execution_count": 10,
     "metadata": {},
     "output_type": "execute_result"
    }
   ],
   "source": [
    "df.head(5)"
   ]
  },
  {
   "cell_type": "code",
   "execution_count": 11,
   "metadata": {},
   "outputs": [],
   "source": [
    "# CSVファイルへの出力\n",
    "df.to_csv('../data/USD_JPY_201601-201908_M10.csv')"
   ]
  },
  {
   "cell_type": "code",
   "execution_count": null,
   "metadata": {},
   "outputs": [],
   "source": []
  }
 ],
 "metadata": {
  "kernelspec": {
   "display_name": "Python 3",
   "language": "python",
   "name": "python3"
  },
  "language_info": {
   "codemirror_mode": {
    "name": "ipython",
    "version": 3
   },
   "file_extension": ".py",
   "mimetype": "text/x-python",
   "name": "python",
   "nbconvert_exporter": "python",
   "pygments_lexer": "ipython3",
   "version": "3.7.6"
  }
 },
 "nbformat": 4,
 "nbformat_minor": 2
}
